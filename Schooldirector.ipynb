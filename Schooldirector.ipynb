{
 "cells": [
  {
   "cell_type": "markdown",
   "metadata": {},
   "source": [
    "# Lifestyle and Depression dataset"
   ]
  },
  {
   "cell_type": "markdown",
   "metadata": {},
   "source": [
    "## Scenario"
   ]
  },
  {
   "cell_type": "markdown",
   "metadata": {},
   "source": [
    "A school director wants to find out how the overall status in mental health (-> depression) is at his school, especially in comparison to other schools.\n",
    "\n",
    "There may be many possible reasons related to depression of school children, so in this notebook, variables can be selected to analyze and identify possible correlations inside the director's school as well as how the variables compare to the other schools."
   ]
  },
  {
   "cell_type": "markdown",
   "metadata": {},
   "source": [
    "In this example, we use the \"lifestyle and depression\" dataset (available here: https://github.com/mehedimamun/Lifestyle-and-Depression-Among-University-Students/) and demonstrate the case for the variables \"depression\" and \"study hours\"."
   ]
  },
  {
   "cell_type": "code",
   "execution_count": 1,
   "metadata": {},
   "outputs": [],
   "source": [
    "import numpy as np\n",
    "import pandas as pd\n",
    "import matplotlib.pyplot as plt\n",
    "import math"
   ]
  },
  {
   "cell_type": "code",
   "execution_count": 2,
   "metadata": {
    "scrolled": false
   },
   "outputs": [
    {
     "data": {
      "text/html": [
       "<div>\n",
       "<style scoped>\n",
       "    .dataframe tbody tr th:only-of-type {\n",
       "        vertical-align: middle;\n",
       "    }\n",
       "\n",
       "    .dataframe tbody tr th {\n",
       "        vertical-align: top;\n",
       "    }\n",
       "\n",
       "    .dataframe thead th {\n",
       "        text-align: right;\n",
       "    }\n",
       "</style>\n",
       "<table border=\"1\" class=\"dataframe\">\n",
       "  <thead>\n",
       "    <tr style=\"text-align: right;\">\n",
       "      <th></th>\n",
       "      <th>mood</th>\n",
       "      <th>age</th>\n",
       "      <th>gender</th>\n",
       "      <th>subject</th>\n",
       "      <th>semester</th>\n",
       "      <th>sibilings</th>\n",
       "      <th>living</th>\n",
       "      <th>employment</th>\n",
       "      <th>personality</th>\n",
       "      <th>relationship</th>\n",
       "      <th>...</th>\n",
       "      <th>exercise</th>\n",
       "      <th>meditation</th>\n",
       "      <th>video_games</th>\n",
       "      <th>study_hours</th>\n",
       "      <th>phone_hours</th>\n",
       "      <th>medication</th>\n",
       "      <th>movies_per_week</th>\n",
       "      <th>music hours</th>\n",
       "      <th>depression</th>\n",
       "      <th>category</th>\n",
       "    </tr>\n",
       "  </thead>\n",
       "  <tbody>\n",
       "    <tr>\n",
       "      <th>0</th>\n",
       "      <td>Tensed</td>\n",
       "      <td>24</td>\n",
       "      <td>Female</td>\n",
       "      <td>Engineering</td>\n",
       "      <td>9</td>\n",
       "      <td>3</td>\n",
       "      <td>With family</td>\n",
       "      <td>Part time</td>\n",
       "      <td>Extrovert</td>\n",
       "      <td>In a relationship</td>\n",
       "      <td>...</td>\n",
       "      <td>Not at all</td>\n",
       "      <td>Not at all</td>\n",
       "      <td>Not at all</td>\n",
       "      <td>2</td>\n",
       "      <td>6 to 8</td>\n",
       "      <td>No</td>\n",
       "      <td>0</td>\n",
       "      <td>0</td>\n",
       "      <td>18</td>\n",
       "      <td>Moderate</td>\n",
       "    </tr>\n",
       "    <tr>\n",
       "      <th>1</th>\n",
       "      <td>Tensed</td>\n",
       "      <td>23</td>\n",
       "      <td>Male</td>\n",
       "      <td>Engineering</td>\n",
       "      <td>11</td>\n",
       "      <td>3</td>\n",
       "      <td>With family</td>\n",
       "      <td>None</td>\n",
       "      <td>Ambivert</td>\n",
       "      <td>Single</td>\n",
       "      <td>...</td>\n",
       "      <td>Regularly</td>\n",
       "      <td>Sometimes</td>\n",
       "      <td>Sometimes</td>\n",
       "      <td>4</td>\n",
       "      <td>0 to 2</td>\n",
       "      <td>No</td>\n",
       "      <td>5</td>\n",
       "      <td>0</td>\n",
       "      <td>1</td>\n",
       "      <td>None</td>\n",
       "    </tr>\n",
       "    <tr>\n",
       "      <th>2</th>\n",
       "      <td>Sad</td>\n",
       "      <td>19</td>\n",
       "      <td>Female</td>\n",
       "      <td>Pharmacy</td>\n",
       "      <td>3</td>\n",
       "      <td>0</td>\n",
       "      <td>With family</td>\n",
       "      <td>None</td>\n",
       "      <td>Ambivert</td>\n",
       "      <td>Single</td>\n",
       "      <td>...</td>\n",
       "      <td>Sometimes</td>\n",
       "      <td>Not at all</td>\n",
       "      <td>Not at all</td>\n",
       "      <td>3</td>\n",
       "      <td>6 to 8</td>\n",
       "      <td>No</td>\n",
       "      <td>0</td>\n",
       "      <td>0</td>\n",
       "      <td>21</td>\n",
       "      <td>Severe</td>\n",
       "    </tr>\n",
       "    <tr>\n",
       "      <th>3</th>\n",
       "      <td>Lost</td>\n",
       "      <td>23</td>\n",
       "      <td>Female</td>\n",
       "      <td>Engineering</td>\n",
       "      <td>13</td>\n",
       "      <td>1</td>\n",
       "      <td>With family</td>\n",
       "      <td>None</td>\n",
       "      <td>Introvert</td>\n",
       "      <td>In a relationship</td>\n",
       "      <td>...</td>\n",
       "      <td>Not at all</td>\n",
       "      <td>Not at all</td>\n",
       "      <td>Very Often</td>\n",
       "      <td>1</td>\n",
       "      <td>0 to 2</td>\n",
       "      <td>No</td>\n",
       "      <td>5</td>\n",
       "      <td>0</td>\n",
       "      <td>23</td>\n",
       "      <td>Severe</td>\n",
       "    </tr>\n",
       "    <tr>\n",
       "      <th>4</th>\n",
       "      <td>Lost</td>\n",
       "      <td>22</td>\n",
       "      <td>Male</td>\n",
       "      <td>Engineering</td>\n",
       "      <td>11</td>\n",
       "      <td>1</td>\n",
       "      <td>With family</td>\n",
       "      <td>None</td>\n",
       "      <td>Ambivert</td>\n",
       "      <td>Single</td>\n",
       "      <td>...</td>\n",
       "      <td>Sometimes</td>\n",
       "      <td>Not at all</td>\n",
       "      <td>Very Often</td>\n",
       "      <td>2</td>\n",
       "      <td>6 to 8</td>\n",
       "      <td>No</td>\n",
       "      <td>1</td>\n",
       "      <td>4</td>\n",
       "      <td>19</td>\n",
       "      <td>Moderate</td>\n",
       "    </tr>\n",
       "  </tbody>\n",
       "</table>\n",
       "<p>5 rows × 34 columns</p>\n",
       "</div>"
      ],
      "text/plain": [
       "     mood  age  gender      subject  semester  sibilings       living  \\\n",
       "0  Tensed   24  Female  Engineering         9          3  With family   \n",
       "1  Tensed   23    Male  Engineering        11          3  With family   \n",
       "2     Sad   19  Female     Pharmacy         3          0  With family   \n",
       "3    Lost   23  Female  Engineering        13          1  With family   \n",
       "4    Lost   22    Male  Engineering        11          1  With family   \n",
       "\n",
       "  employment personality       relationship  ...    exercise  meditation  \\\n",
       "0  Part time   Extrovert  In a relationship  ...  Not at all  Not at all   \n",
       "1       None    Ambivert             Single  ...   Regularly   Sometimes   \n",
       "2       None    Ambivert             Single  ...   Sometimes  Not at all   \n",
       "3       None   Introvert  In a relationship  ...  Not at all  Not at all   \n",
       "4       None    Ambivert             Single  ...   Sometimes  Not at all   \n",
       "\n",
       "  video_games study_hours phone_hours medication movies_per_week music hours  \\\n",
       "0  Not at all           2      6 to 8         No               0           0   \n",
       "1   Sometimes           4      0 to 2         No               5           0   \n",
       "2  Not at all           3      6 to 8         No               0           0   \n",
       "3  Very Often           1      0 to 2         No               5           0   \n",
       "4  Very Often           2      6 to 8         No               1           4   \n",
       "\n",
       "  depression  category  \n",
       "0         18  Moderate  \n",
       "1          1      None  \n",
       "2         21    Severe  \n",
       "3         23    Severe  \n",
       "4         19  Moderate  \n",
       "\n",
       "[5 rows x 34 columns]"
      ]
     },
     "execution_count": 2,
     "metadata": {},
     "output_type": "execute_result"
    }
   ],
   "source": [
    "df = pd.read_csv(\"depression.csv\")\n",
    "df = df.dropna()\n",
    "df.head()"
   ]
  },
  {
   "cell_type": "code",
   "execution_count": 168,
   "metadata": {},
   "outputs": [
    {
     "data": {
      "text/plain": [
       "count    718.000000\n",
       "mean      11.222841\n",
       "std        6.327900\n",
       "min        0.000000\n",
       "25%        6.000000\n",
       "50%       11.000000\n",
       "75%       15.000000\n",
       "max       27.000000\n",
       "Name: depression, dtype: float64"
      ]
     },
     "execution_count": 168,
     "metadata": {},
     "output_type": "execute_result"
    }
   ],
   "source": [
    "df.depression.describe()"
   ]
  },
  {
   "cell_type": "markdown",
   "metadata": {},
   "source": [
    "## Get sleep duration"
   ]
  },
  {
   "cell_type": "code",
   "execution_count": 3,
   "metadata": {},
   "outputs": [
    {
     "data": {
      "text/html": [
       "<div>\n",
       "<style scoped>\n",
       "    .dataframe tbody tr th:only-of-type {\n",
       "        vertical-align: middle;\n",
       "    }\n",
       "\n",
       "    .dataframe tbody tr th {\n",
       "        vertical-align: top;\n",
       "    }\n",
       "\n",
       "    .dataframe thead th {\n",
       "        text-align: right;\n",
       "    }\n",
       "</style>\n",
       "<table border=\"1\" class=\"dataframe\">\n",
       "  <thead>\n",
       "    <tr style=\"text-align: right;\">\n",
       "      <th></th>\n",
       "      <th>wakeup</th>\n",
       "      <th>sleep</th>\n",
       "    </tr>\n",
       "  </thead>\n",
       "  <tbody>\n",
       "    <tr>\n",
       "      <th>0</th>\n",
       "      <td>11:20:00 AM</td>\n",
       "      <td>4:20:00 AM</td>\n",
       "    </tr>\n",
       "    <tr>\n",
       "      <th>1</th>\n",
       "      <td>12:00:00 PM</td>\n",
       "      <td>4:00:00 AM</td>\n",
       "    </tr>\n",
       "    <tr>\n",
       "      <th>2</th>\n",
       "      <td>8:30:00 AM</td>\n",
       "      <td>1:00:00 AM</td>\n",
       "    </tr>\n",
       "    <tr>\n",
       "      <th>3</th>\n",
       "      <td>2:00:00 PM</td>\n",
       "      <td>3:00:00 AM</td>\n",
       "    </tr>\n",
       "    <tr>\n",
       "      <th>4</th>\n",
       "      <td>11:00:00 AM</td>\n",
       "      <td>3:30:00 AM</td>\n",
       "    </tr>\n",
       "  </tbody>\n",
       "</table>\n",
       "</div>"
      ],
      "text/plain": [
       "        wakeup       sleep\n",
       "0  11:20:00 AM  4:20:00 AM\n",
       "1  12:00:00 PM  4:00:00 AM\n",
       "2   8:30:00 AM  1:00:00 AM\n",
       "3   2:00:00 PM  3:00:00 AM\n",
       "4  11:00:00 AM  3:30:00 AM"
      ]
     },
     "execution_count": 3,
     "metadata": {},
     "output_type": "execute_result"
    }
   ],
   "source": [
    "dfsleep = df[['wakeup', 'sleep']].copy()\n",
    "dfsleep = dfsleep.reset_index(drop=True)\n",
    "dfsleep.head()"
   ]
  },
  {
   "cell_type": "code",
   "execution_count": 4,
   "metadata": {
    "scrolled": true
   },
   "outputs": [
    {
     "data": {
      "text/html": [
       "<div>\n",
       "<style scoped>\n",
       "    .dataframe tbody tr th:only-of-type {\n",
       "        vertical-align: middle;\n",
       "    }\n",
       "\n",
       "    .dataframe tbody tr th {\n",
       "        vertical-align: top;\n",
       "    }\n",
       "\n",
       "    .dataframe thead th {\n",
       "        text-align: right;\n",
       "    }\n",
       "</style>\n",
       "<table border=\"1\" class=\"dataframe\">\n",
       "  <thead>\n",
       "    <tr style=\"text-align: right;\">\n",
       "      <th></th>\n",
       "      <th>wakeup</th>\n",
       "      <th>sleep</th>\n",
       "      <th>sleep_duration</th>\n",
       "    </tr>\n",
       "  </thead>\n",
       "  <tbody>\n",
       "    <tr>\n",
       "      <th>52</th>\n",
       "      <td>8:00:00 AM</td>\n",
       "      <td>11:00:00 PM</td>\n",
       "      <td>-15.000000</td>\n",
       "    </tr>\n",
       "    <tr>\n",
       "      <th>76</th>\n",
       "      <td>6:10:00 AM</td>\n",
       "      <td>11:50:00 PM</td>\n",
       "      <td>-17.666667</td>\n",
       "    </tr>\n",
       "    <tr>\n",
       "      <th>92</th>\n",
       "      <td>6:00:00 AM</td>\n",
       "      <td>11:30:00 PM</td>\n",
       "      <td>-17.500000</td>\n",
       "    </tr>\n",
       "    <tr>\n",
       "      <th>118</th>\n",
       "      <td>5:30:00 AM</td>\n",
       "      <td>10:30:00 AM</td>\n",
       "      <td>-5.000000</td>\n",
       "    </tr>\n",
       "    <tr>\n",
       "      <th>136</th>\n",
       "      <td>6:30:00 AM</td>\n",
       "      <td>11:00:00 PM</td>\n",
       "      <td>-16.500000</td>\n",
       "    </tr>\n",
       "  </tbody>\n",
       "</table>\n",
       "</div>"
      ],
      "text/plain": [
       "         wakeup        sleep  sleep_duration\n",
       "52   8:00:00 AM  11:00:00 PM      -15.000000\n",
       "76   6:10:00 AM  11:50:00 PM      -17.666667\n",
       "92   6:00:00 AM  11:30:00 PM      -17.500000\n",
       "118  5:30:00 AM  10:30:00 AM       -5.000000\n",
       "136  6:30:00 AM  11:00:00 PM      -16.500000"
      ]
     },
     "execution_count": 4,
     "metadata": {},
     "output_type": "execute_result"
    }
   ],
   "source": [
    "from dateutil import parser\n",
    "sleepdurations = np.array([])\n",
    "npwakes = dfsleep['wakeup'].to_numpy()\n",
    "npsleeps = dfsleep['sleep'].to_numpy()\n",
    "midnight = parser.parse(\"00:00:00\")\n",
    "evening = parser.parse(\"17:00:00\")\n",
    "noon = parser.parse(\"12:00:00\")\n",
    "\n",
    "for i in range(0, len(npwakes)):\n",
    "    wake = parser.parse(npwakes[i])\n",
    "    sleep = parser.parse(npsleeps[i])\n",
    "    if noon <= sleep <= evening:\n",
    "        # this is probably meant as AM not PM\n",
    "        pmdist = sleep - noon# distance from midnight\n",
    "        duration = wake - midnight + pmdist\n",
    "    else:\n",
    "        duration = wake - sleep\n",
    "    sleepdurations = np.append(sleepdurations, duration.total_seconds()/3600)\n",
    "    \n",
    "dfsleep['sleep_duration'] = sleepdurations\n",
    "dfsleep[dfsleep['sleep_duration'] <= 0].head()\n",
    "#dfsleep.head(25)"
   ]
  },
  {
   "cell_type": "code",
   "execution_count": 5,
   "metadata": {},
   "outputs": [
    {
     "data": {
      "text/html": [
       "<div>\n",
       "<style scoped>\n",
       "    .dataframe tbody tr th:only-of-type {\n",
       "        vertical-align: middle;\n",
       "    }\n",
       "\n",
       "    .dataframe tbody tr th {\n",
       "        vertical-align: top;\n",
       "    }\n",
       "\n",
       "    .dataframe thead th {\n",
       "        text-align: right;\n",
       "    }\n",
       "</style>\n",
       "<table border=\"1\" class=\"dataframe\">\n",
       "  <thead>\n",
       "    <tr style=\"text-align: right;\">\n",
       "      <th></th>\n",
       "      <th>wakeup</th>\n",
       "      <th>sleep</th>\n",
       "      <th>sleep_duration</th>\n",
       "    </tr>\n",
       "  </thead>\n",
       "  <tbody>\n",
       "    <tr>\n",
       "      <th>0</th>\n",
       "      <td>11:20:00 AM</td>\n",
       "      <td>4:20:00 AM</td>\n",
       "      <td>7.0</td>\n",
       "    </tr>\n",
       "    <tr>\n",
       "      <th>1</th>\n",
       "      <td>12:00:00 PM</td>\n",
       "      <td>4:00:00 AM</td>\n",
       "      <td>8.0</td>\n",
       "    </tr>\n",
       "    <tr>\n",
       "      <th>2</th>\n",
       "      <td>8:30:00 AM</td>\n",
       "      <td>1:00:00 AM</td>\n",
       "      <td>7.5</td>\n",
       "    </tr>\n",
       "    <tr>\n",
       "      <th>3</th>\n",
       "      <td>2:00:00 PM</td>\n",
       "      <td>3:00:00 AM</td>\n",
       "      <td>11.0</td>\n",
       "    </tr>\n",
       "    <tr>\n",
       "      <th>4</th>\n",
       "      <td>11:00:00 AM</td>\n",
       "      <td>3:30:00 AM</td>\n",
       "      <td>7.5</td>\n",
       "    </tr>\n",
       "    <tr>\n",
       "      <th>5</th>\n",
       "      <td>10:00:00 AM</td>\n",
       "      <td>5:30:00 AM</td>\n",
       "      <td>4.5</td>\n",
       "    </tr>\n",
       "    <tr>\n",
       "      <th>6</th>\n",
       "      <td>9:30:00 AM</td>\n",
       "      <td>3:00:00 AM</td>\n",
       "      <td>6.5</td>\n",
       "    </tr>\n",
       "    <tr>\n",
       "      <th>7</th>\n",
       "      <td>10:00:00 AM</td>\n",
       "      <td>2:00:00 AM</td>\n",
       "      <td>8.0</td>\n",
       "    </tr>\n",
       "    <tr>\n",
       "      <th>8</th>\n",
       "      <td>9:30:00 AM</td>\n",
       "      <td>2:00:00 AM</td>\n",
       "      <td>7.5</td>\n",
       "    </tr>\n",
       "  </tbody>\n",
       "</table>\n",
       "</div>"
      ],
      "text/plain": [
       "        wakeup       sleep  sleep_duration\n",
       "0  11:20:00 AM  4:20:00 AM             7.0\n",
       "1  12:00:00 PM  4:00:00 AM             8.0\n",
       "2   8:30:00 AM  1:00:00 AM             7.5\n",
       "3   2:00:00 PM  3:00:00 AM            11.0\n",
       "4  11:00:00 AM  3:30:00 AM             7.5\n",
       "5  10:00:00 AM  5:30:00 AM             4.5\n",
       "6   9:30:00 AM  3:00:00 AM             6.5\n",
       "7  10:00:00 AM  2:00:00 AM             8.0\n",
       "8   9:30:00 AM  2:00:00 AM             7.5"
      ]
     },
     "execution_count": 5,
     "metadata": {},
     "output_type": "execute_result"
    }
   ],
   "source": [
    "dfsleep.head(9)"
   ]
  },
  {
   "cell_type": "code",
   "execution_count": 6,
   "metadata": {},
   "outputs": [],
   "source": [
    "def adjustsleep(duration):\n",
    "    if duration >= 0:\n",
    "        return duration\n",
    "    if 0 > duration > -12:\n",
    "        return (12 + duration)\n",
    "    if -12 >= duration > -24:\n",
    "        return (24 + duration)\n",
    "\n",
    "#dfsleep.loc[dfsleep.sleep_duration < 0, 'sleep_duration'] = adjustsleep"
   ]
  },
  {
   "cell_type": "code",
   "execution_count": 7,
   "metadata": {
    "scrolled": true
   },
   "outputs": [],
   "source": [
    "for i in range(0, len(dfsleep)):\n",
    "    duration = dfsleep.iloc[i].sleep_duration\n",
    "    dfsleep.at[i, 'sleep_duration'] = adjustsleep(dfsleep.iloc[i].sleep_duration)"
   ]
  },
  {
   "cell_type": "markdown",
   "metadata": {},
   "source": [
    "## Umwandlung in Schüler"
   ]
  },
  {
   "cell_type": "markdown",
   "metadata": {},
   "source": [
    "### Konvertierung Subject -> Schultyp und Semester -> Klassenstufe"
   ]
  },
  {
   "cell_type": "code",
   "execution_count": 8,
   "metadata": {},
   "outputs": [
    {
     "data": {
      "text/plain": [
       "Engineering                  382\n",
       "Business                     206\n",
       "Pharmacy                      28\n",
       "MBBS                          16\n",
       "Law                           15\n",
       "                            ... \n",
       "IR                             1\n",
       "Environmental Management       1\n",
       "Environmental management       1\n",
       "Botany                         1\n",
       "Hsc                            1\n",
       "Name: subject, Length: 69, dtype: int64"
      ]
     },
     "execution_count": 8,
     "metadata": {},
     "output_type": "execute_result"
    }
   ],
   "source": [
    "df['subject'].value_counts()"
   ]
  },
  {
   "cell_type": "code",
   "execution_count": 9,
   "metadata": {},
   "outputs": [
    {
     "data": {
      "text/plain": [
       "5     108\n",
       "11     94\n",
       "12     85\n",
       "8      67\n",
       "10     56\n",
       "1      47\n",
       "4      47\n",
       "7      40\n",
       "2      39\n",
       "9      37\n",
       "6      35\n",
       "13     29\n",
       "3      27\n",
       "14     20\n",
       "15      9\n",
       "16      5\n",
       "17      2\n",
       "21      1\n",
       "23      1\n",
       "20      1\n",
       "83      1\n",
       "19      1\n",
       "Name: semester, dtype: int64"
      ]
     },
     "execution_count": 9,
     "metadata": {},
     "output_type": "execute_result"
    }
   ],
   "source": [
    "df['semester'].value_counts()"
   ]
  },
  {
   "cell_type": "code",
   "execution_count": 10,
   "metadata": {},
   "outputs": [
    {
     "name": "stdout",
     "output_type": "stream",
     "text": [
      "718 from initially 752 students remaining.\n"
     ]
    }
   ],
   "source": [
    "# Unify subjects\n",
    "subjects = df['subject'].to_numpy()\n",
    "semesters = df['semester'].to_numpy()\n",
    "dropIndices = []\n",
    "newsemesters = np.array([])\n",
    "newsubjects = np.array([])\n",
    "\n",
    "maxsem = 23 # define highest valid semester\n",
    "\n",
    "for i in range(0, len(subjects)):\n",
    "    current = str.lower(subjects[i])\n",
    "    if \"bio\" in current or \"arch\" in current or \"botan\" in current or \"engin\" in current or \"math\" in current or \"pharm\" in current or \"science\" in current or \"it\" in current or \"phys\" in current:\n",
    "        subjects[i] = \"Naturwissenschaft\"\n",
    "    if \"econ\" in current or \"financ\" in current or \"business\" in current or \"management\" in current or \"market\" in current:\n",
    "        subjects[i] = \"Wirtschaft\"\n",
    "    if \"polit\" in current or \"social\" in current or \"english\" in current or \"linguist\" in current or \"geo\" in current or \"law\" in current or \"international\" in current or \"crimin\" in current or \"art\" in current:\n",
    "        subjects[i] = \"Geisteswissenschaft\"\n",
    "        \n",
    "    if subjects[i] in ['Naturwissenschaft', 'Wirtschaft', 'Geisteswissenschaft', 'Kunst'] and semesters[i] <= maxsem:\n",
    "        newsubjects = np.append(newsubjects, subjects[i])\n",
    "        newsemesters = np.append(newsemesters, round(semesters[i]*(12/maxsem), 0)).astype(int)\n",
    "    else:\n",
    "        dropIndices.append(i)\n",
    "\n",
    "print(str(len(newsubjects)) + \" from initially \" + str(len(subjects)) + \" students remaining.\")"
   ]
  },
  {
   "cell_type": "code",
   "execution_count": 11,
   "metadata": {},
   "outputs": [
    {
     "data": {
      "text/html": [
       "<div>\n",
       "<style scoped>\n",
       "    .dataframe tbody tr th:only-of-type {\n",
       "        vertical-align: middle;\n",
       "    }\n",
       "\n",
       "    .dataframe tbody tr th {\n",
       "        vertical-align: top;\n",
       "    }\n",
       "\n",
       "    .dataframe thead th {\n",
       "        text-align: right;\n",
       "    }\n",
       "</style>\n",
       "<table border=\"1\" class=\"dataframe\">\n",
       "  <thead>\n",
       "    <tr style=\"text-align: right;\">\n",
       "      <th></th>\n",
       "      <th>mood</th>\n",
       "      <th>age</th>\n",
       "      <th>gender</th>\n",
       "      <th>school_type</th>\n",
       "      <th>grade_level</th>\n",
       "      <th>sibilings</th>\n",
       "      <th>living</th>\n",
       "      <th>employment</th>\n",
       "      <th>personality</th>\n",
       "      <th>relationship</th>\n",
       "      <th>...</th>\n",
       "      <th>exercise</th>\n",
       "      <th>meditation</th>\n",
       "      <th>video_games</th>\n",
       "      <th>study_hours</th>\n",
       "      <th>phone_hours</th>\n",
       "      <th>medication</th>\n",
       "      <th>movies_per_week</th>\n",
       "      <th>music hours</th>\n",
       "      <th>depression</th>\n",
       "      <th>category</th>\n",
       "    </tr>\n",
       "  </thead>\n",
       "  <tbody>\n",
       "    <tr>\n",
       "      <th>0</th>\n",
       "      <td>Tensed</td>\n",
       "      <td>24</td>\n",
       "      <td>Female</td>\n",
       "      <td>Naturwissenschaft</td>\n",
       "      <td>5</td>\n",
       "      <td>3</td>\n",
       "      <td>With family</td>\n",
       "      <td>Part time</td>\n",
       "      <td>Extrovert</td>\n",
       "      <td>In a relationship</td>\n",
       "      <td>...</td>\n",
       "      <td>Not at all</td>\n",
       "      <td>Not at all</td>\n",
       "      <td>Not at all</td>\n",
       "      <td>2</td>\n",
       "      <td>6 to 8</td>\n",
       "      <td>No</td>\n",
       "      <td>0</td>\n",
       "      <td>0</td>\n",
       "      <td>18</td>\n",
       "      <td>Moderate</td>\n",
       "    </tr>\n",
       "    <tr>\n",
       "      <th>1</th>\n",
       "      <td>Tensed</td>\n",
       "      <td>23</td>\n",
       "      <td>Male</td>\n",
       "      <td>Naturwissenschaft</td>\n",
       "      <td>6</td>\n",
       "      <td>3</td>\n",
       "      <td>With family</td>\n",
       "      <td>None</td>\n",
       "      <td>Ambivert</td>\n",
       "      <td>Single</td>\n",
       "      <td>...</td>\n",
       "      <td>Regularly</td>\n",
       "      <td>Sometimes</td>\n",
       "      <td>Sometimes</td>\n",
       "      <td>4</td>\n",
       "      <td>0 to 2</td>\n",
       "      <td>No</td>\n",
       "      <td>5</td>\n",
       "      <td>0</td>\n",
       "      <td>1</td>\n",
       "      <td>None</td>\n",
       "    </tr>\n",
       "    <tr>\n",
       "      <th>2</th>\n",
       "      <td>Sad</td>\n",
       "      <td>19</td>\n",
       "      <td>Female</td>\n",
       "      <td>Naturwissenschaft</td>\n",
       "      <td>2</td>\n",
       "      <td>0</td>\n",
       "      <td>With family</td>\n",
       "      <td>None</td>\n",
       "      <td>Ambivert</td>\n",
       "      <td>Single</td>\n",
       "      <td>...</td>\n",
       "      <td>Sometimes</td>\n",
       "      <td>Not at all</td>\n",
       "      <td>Not at all</td>\n",
       "      <td>3</td>\n",
       "      <td>6 to 8</td>\n",
       "      <td>No</td>\n",
       "      <td>0</td>\n",
       "      <td>0</td>\n",
       "      <td>21</td>\n",
       "      <td>Severe</td>\n",
       "    </tr>\n",
       "    <tr>\n",
       "      <th>3</th>\n",
       "      <td>Lost</td>\n",
       "      <td>23</td>\n",
       "      <td>Female</td>\n",
       "      <td>Naturwissenschaft</td>\n",
       "      <td>7</td>\n",
       "      <td>1</td>\n",
       "      <td>With family</td>\n",
       "      <td>None</td>\n",
       "      <td>Introvert</td>\n",
       "      <td>In a relationship</td>\n",
       "      <td>...</td>\n",
       "      <td>Not at all</td>\n",
       "      <td>Not at all</td>\n",
       "      <td>Very Often</td>\n",
       "      <td>1</td>\n",
       "      <td>0 to 2</td>\n",
       "      <td>No</td>\n",
       "      <td>5</td>\n",
       "      <td>0</td>\n",
       "      <td>23</td>\n",
       "      <td>Severe</td>\n",
       "    </tr>\n",
       "    <tr>\n",
       "      <th>4</th>\n",
       "      <td>Lost</td>\n",
       "      <td>22</td>\n",
       "      <td>Male</td>\n",
       "      <td>Naturwissenschaft</td>\n",
       "      <td>6</td>\n",
       "      <td>1</td>\n",
       "      <td>With family</td>\n",
       "      <td>None</td>\n",
       "      <td>Ambivert</td>\n",
       "      <td>Single</td>\n",
       "      <td>...</td>\n",
       "      <td>Sometimes</td>\n",
       "      <td>Not at all</td>\n",
       "      <td>Very Often</td>\n",
       "      <td>2</td>\n",
       "      <td>6 to 8</td>\n",
       "      <td>No</td>\n",
       "      <td>1</td>\n",
       "      <td>4</td>\n",
       "      <td>19</td>\n",
       "      <td>Moderate</td>\n",
       "    </tr>\n",
       "  </tbody>\n",
       "</table>\n",
       "<p>5 rows × 34 columns</p>\n",
       "</div>"
      ],
      "text/plain": [
       "     mood  age  gender        school_type  grade_level  sibilings  \\\n",
       "0  Tensed   24  Female  Naturwissenschaft            5          3   \n",
       "1  Tensed   23    Male  Naturwissenschaft            6          3   \n",
       "2     Sad   19  Female  Naturwissenschaft            2          0   \n",
       "3    Lost   23  Female  Naturwissenschaft            7          1   \n",
       "4    Lost   22    Male  Naturwissenschaft            6          1   \n",
       "\n",
       "        living employment personality       relationship  ...    exercise  \\\n",
       "0  With family  Part time   Extrovert  In a relationship  ...  Not at all   \n",
       "1  With family       None    Ambivert             Single  ...   Regularly   \n",
       "2  With family       None    Ambivert             Single  ...   Sometimes   \n",
       "3  With family       None   Introvert  In a relationship  ...  Not at all   \n",
       "4  With family       None    Ambivert             Single  ...   Sometimes   \n",
       "\n",
       "   meditation video_games study_hours phone_hours medication movies_per_week  \\\n",
       "0  Not at all  Not at all           2      6 to 8         No               0   \n",
       "1   Sometimes   Sometimes           4      0 to 2         No               5   \n",
       "2  Not at all  Not at all           3      6 to 8         No               0   \n",
       "3  Not at all  Very Often           1      0 to 2         No               5   \n",
       "4  Not at all  Very Often           2      6 to 8         No               1   \n",
       "\n",
       "  music hours depression  category  \n",
       "0           0         18  Moderate  \n",
       "1           0          1      None  \n",
       "2           0         21    Severe  \n",
       "3           0         23    Severe  \n",
       "4           4         19  Moderate  \n",
       "\n",
       "[5 rows x 34 columns]"
      ]
     },
     "execution_count": 11,
     "metadata": {},
     "output_type": "execute_result"
    }
   ],
   "source": [
    "dfdeutsch = df.copy()\n",
    "dfdeutsch = dfdeutsch.drop(dropIndices)\n",
    "dfdeutsch['semester'] = newsemesters\n",
    "dfdeutsch['subject'] = newsubjects\n",
    "dfdeutsch = dfdeutsch.rename(columns={\"semester\": \"grade_level\", \"subject\": \"school_type\"})\n",
    "\n",
    "dfdeutsch.to_csv(\"output.csv\")\n",
    "dfdeutsch.head()"
   ]
  },
  {
   "cell_type": "code",
   "execution_count": 12,
   "metadata": {},
   "outputs": [
    {
     "data": {
      "text/plain": [
       "Naturwissenschaft      456\n",
       "Wirtschaft             223\n",
       "Geisteswissenschaft     39\n",
       "Name: school_type, dtype: int64"
      ]
     },
     "execution_count": 12,
     "metadata": {},
     "output_type": "execute_result"
    }
   ],
   "source": [
    "#df = dfdeutsch.copy()\n",
    "dfdeutsch['school_type'].value_counts()"
   ]
  },
  {
   "cell_type": "code",
   "execution_count": 13,
   "metadata": {},
   "outputs": [],
   "source": [
    "df = dfdeutsch.copy()"
   ]
  },
  {
   "cell_type": "code",
   "execution_count": 14,
   "metadata": {},
   "outputs": [
    {
     "data": {
      "text/html": [
       "<div>\n",
       "<style scoped>\n",
       "    .dataframe tbody tr th:only-of-type {\n",
       "        vertical-align: middle;\n",
       "    }\n",
       "\n",
       "    .dataframe tbody tr th {\n",
       "        vertical-align: top;\n",
       "    }\n",
       "\n",
       "    .dataframe thead th {\n",
       "        text-align: right;\n",
       "    }\n",
       "</style>\n",
       "<table border=\"1\" class=\"dataframe\">\n",
       "  <thead>\n",
       "    <tr style=\"text-align: right;\">\n",
       "      <th></th>\n",
       "      <th>school_type</th>\n",
       "      <th>grade_level</th>\n",
       "      <th>study_hours</th>\n",
       "      <th>depression</th>\n",
       "    </tr>\n",
       "  </thead>\n",
       "  <tbody>\n",
       "    <tr>\n",
       "      <th>0</th>\n",
       "      <td>Naturwissenschaft</td>\n",
       "      <td>5</td>\n",
       "      <td>2</td>\n",
       "      <td>18</td>\n",
       "    </tr>\n",
       "    <tr>\n",
       "      <th>1</th>\n",
       "      <td>Naturwissenschaft</td>\n",
       "      <td>6</td>\n",
       "      <td>4</td>\n",
       "      <td>1</td>\n",
       "    </tr>\n",
       "    <tr>\n",
       "      <th>2</th>\n",
       "      <td>Naturwissenschaft</td>\n",
       "      <td>2</td>\n",
       "      <td>3</td>\n",
       "      <td>21</td>\n",
       "    </tr>\n",
       "    <tr>\n",
       "      <th>3</th>\n",
       "      <td>Naturwissenschaft</td>\n",
       "      <td>7</td>\n",
       "      <td>1</td>\n",
       "      <td>23</td>\n",
       "    </tr>\n",
       "    <tr>\n",
       "      <th>4</th>\n",
       "      <td>Naturwissenschaft</td>\n",
       "      <td>6</td>\n",
       "      <td>2</td>\n",
       "      <td>19</td>\n",
       "    </tr>\n",
       "  </tbody>\n",
       "</table>\n",
       "</div>"
      ],
      "text/plain": [
       "         school_type  grade_level  study_hours  depression\n",
       "0  Naturwissenschaft            5            2          18\n",
       "1  Naturwissenschaft            6            4           1\n",
       "2  Naturwissenschaft            2            3          21\n",
       "3  Naturwissenschaft            7            1          23\n",
       "4  Naturwissenschaft            6            2          19"
      ]
     },
     "execution_count": 14,
     "metadata": {},
     "output_type": "execute_result"
    }
   ],
   "source": [
    "# Select interesting variables\n",
    "varsInterest = ['school_type', 'grade_level', 'study_hours', 'depression']\n",
    "\n",
    "# Select variables for clustering & visualization\n",
    "varX = 'depression'\n",
    "varY = 'study_hours'\n",
    "\n",
    "dfInterest = df[varsInterest].copy()\n",
    "dfInterest.head()"
   ]
  },
  {
   "cell_type": "code",
   "execution_count": 15,
   "metadata": {},
   "outputs": [
    {
     "data": {
      "text/html": [
       "<div>\n",
       "<style scoped>\n",
       "    .dataframe tbody tr th:only-of-type {\n",
       "        vertical-align: middle;\n",
       "    }\n",
       "\n",
       "    .dataframe tbody tr th {\n",
       "        vertical-align: top;\n",
       "    }\n",
       "\n",
       "    .dataframe thead th {\n",
       "        text-align: right;\n",
       "    }\n",
       "</style>\n",
       "<table border=\"1\" class=\"dataframe\">\n",
       "  <thead>\n",
       "    <tr style=\"text-align: right;\">\n",
       "      <th></th>\n",
       "      <th>school_type</th>\n",
       "      <th>grade_level</th>\n",
       "      <th>study_hours</th>\n",
       "      <th>depression</th>\n",
       "    </tr>\n",
       "  </thead>\n",
       "  <tbody>\n",
       "    <tr>\n",
       "      <th>0</th>\n",
       "      <td>2</td>\n",
       "      <td>5</td>\n",
       "      <td>2</td>\n",
       "      <td>18</td>\n",
       "    </tr>\n",
       "    <tr>\n",
       "      <th>1</th>\n",
       "      <td>2</td>\n",
       "      <td>6</td>\n",
       "      <td>4</td>\n",
       "      <td>1</td>\n",
       "    </tr>\n",
       "    <tr>\n",
       "      <th>2</th>\n",
       "      <td>2</td>\n",
       "      <td>2</td>\n",
       "      <td>3</td>\n",
       "      <td>21</td>\n",
       "    </tr>\n",
       "    <tr>\n",
       "      <th>3</th>\n",
       "      <td>2</td>\n",
       "      <td>7</td>\n",
       "      <td>1</td>\n",
       "      <td>23</td>\n",
       "    </tr>\n",
       "    <tr>\n",
       "      <th>4</th>\n",
       "      <td>2</td>\n",
       "      <td>6</td>\n",
       "      <td>2</td>\n",
       "      <td>19</td>\n",
       "    </tr>\n",
       "  </tbody>\n",
       "</table>\n",
       "</div>"
      ],
      "text/plain": [
       "   school_type  grade_level  study_hours  depression\n",
       "0            2            5            2          18\n",
       "1            2            6            4           1\n",
       "2            2            2            3          21\n",
       "3            2            7            1          23\n",
       "4            2            6            2          19"
      ]
     },
     "execution_count": 15,
     "metadata": {},
     "output_type": "execute_result"
    }
   ],
   "source": [
    "# Transform school_type to integer encoding\n",
    "schoolTypesDict = {'Naturwissenschaft': 2, 'Wirtschaft': 1, 'Geisteswissenschaft': 3}\n",
    "\n",
    "dfInterest = dfInterest.replace({'school_type': schoolTypesDict})\n",
    "dfInterest.head()"
   ]
  },
  {
   "cell_type": "code",
   "execution_count": 16,
   "metadata": {},
   "outputs": [
    {
     "data": {
      "text/plain": [
       "Text(0, 0.5, 'study_hours')"
      ]
     },
     "execution_count": 16,
     "metadata": {},
     "output_type": "execute_result"
    },
    {
     "data": {
      "image/png": "[encoded data removed]",
      "text/plain": [
       "<Figure size 432x288 with 1 Axes>"
      ]
     },
     "metadata": {
      "needs_background": "light"
     },
     "output_type": "display_data"
    }
   ],
   "source": [
    "# Plot raw data from the selected variables\n",
    "\n",
    "plt.scatter(dfInterest[varX], dfInterest[varY])\n",
    "plt.xlabel(varX)\n",
    "plt.ylabel(varY)"
   ]
  },
  {
   "cell_type": "code",
   "execution_count": 17,
   "metadata": {},
   "outputs": [
    {
     "name": "stdout",
     "output_type": "stream",
     "text": [
      "Mean school_type: 1.743732590529248\n",
      "Std school_type: 0.5474000888406357\n",
      "Mean grade_level: 4.281337047353761\n",
      "Std grade_level: 1.9373629132892884\n",
      "Mean study_hours: 2.8105849582172704\n",
      "Std study_hours: 2.175763401613632\n",
      "Mean depression: 11.222841225626741\n",
      "Std depression: 6.327900342060644\n"
     ]
    }
   ],
   "source": [
    "# Get mean and standard deviation for the variables of interest\n",
    "\n",
    "meansInterest = []\n",
    "stdsInterest = []\n",
    "\n",
    "for i in range(0, len(varsInterest)):\n",
    "    varMean = dfInterest[varsInterest[i]].mean()\n",
    "    varStd = dfInterest[varsInterest[i]].std()\n",
    "    meansInterest.append(varMean)\n",
    "    stdsInterest.append(varStd)\n",
    "    print(\"Mean \" + varsInterest[i] + \": \" + str(varMean))\n",
    "    print(\"Std \" + varsInterest[i] + \": \" + str(varStd))\n",
    "\n",
    "#############\n",
    "\n",
    "#meanX = dfInterest[varX].mean()\n",
    "#stdX = dfInterest[varX].std()\n",
    "#meanY = dfInterest[varY].mean()\n",
    "#stdY = dfInterest[varY].std()\n",
    "\n",
    "#print(\"Mean \" + varX + \": \" + str(meanX))\n",
    "#print(\"Std \" + varX + \": \" + str(stdX))\n",
    "#print(\"Mean \" + varX + \": \" + str(meanY))\n",
    "#print(\"Std \" + varX + \": \" + str(stdY))"
   ]
  },
  {
   "cell_type": "code",
   "execution_count": 18,
   "metadata": {
    "scrolled": true
   },
   "outputs": [
    {
     "name": "stdout",
     "output_type": "stream",
     "text": [
      "50718\n",
      "1.7461256358689223\n",
      "0.676148806866752\n",
      "50718\n",
      "4.286426909578453\n",
      "2.0714783231798\n",
      "50718\n",
      "2.8226270752001263\n",
      "2.256390048742103\n",
      "50718\n",
      "11.251508340234237\n",
      "6.601950008118526\n"
     ]
    }
   ],
   "source": [
    "# Generate more samples with simulation\n",
    "import statistics as stats\n",
    "\n",
    "number_samples = 50000\n",
    "\n",
    "# Create distribution objects for each variable of interest\n",
    "\n",
    "objs = []\n",
    "genSamples = [] # array of arrays containing the generated samples of each VoI\n",
    "\n",
    "for i in range(0, len(varsInterest)):\n",
    "    varObj = stats.NormalDist(mu=meansInterest[i], sigma=stdsInterest[i])\n",
    "    objs.append(varObj)\n",
    "    varSamples = varObj.samples(number_samples, seed=1)\n",
    "    genSamples.append(varSamples)\n",
    "\n",
    "# Concatenate with real data\n",
    "samples = genSamples\n",
    "for i in range(0, len(genSamples)):\n",
    "    var = varsInterest[i]\n",
    "    samples[i] = np.concatenate((dfInterest[var].to_numpy(), genSamples[i]))\n",
    "\n",
    "#samplesX = np.concatenate((dfInterest[varX].to_numpy(), gensamplesX))\n",
    "#samplesY = np.concatenate((dfInterest[varY].to_numpy(), gensamplesY))\n",
    "\n",
    "# Randomize each value a little bit\n",
    "np.random.seed(1)\n",
    "randizedSamples = [] # list of arrays of randomized samples\n",
    "for i in range(0, len(samples)):\n",
    "    rands = np.random.uniform(0.75,1.25,len(samples[i]))\n",
    "    randized = rands*samples[i]\n",
    "    randizedSamples.append(randized)\n",
    "    \n",
    "\n",
    "#randX = np.random.uniform(0.75,1.25,len(samplesX))\n",
    "#randY = np.random.uniform(0.75,1.25,len(samplesY))\n",
    "#randizedX = np.array([])\n",
    "#randizedY = np.array([])\n",
    "\n",
    "#for i in range(0, len(samplesX)):\n",
    "#    randizedX = np.append(randizedX, samplesX[i]*randX[i])\n",
    "#    randizedY = np.append(randizedY, samplesY[i]*randY[i])\n",
    "    \n",
    "samples = randizedSamples\n",
    "\n",
    "# If only integers are valid, round the values\n",
    "# CAUTION: THIS STEP NEEDS TO BE CHECKED MANUALLY\n",
    "# Check if each VoI needs to be integer-valued\n",
    "for i in range(0, len(samples)):\n",
    "    samples[i] = np.around(samples[i]).astype(int)\n",
    "    \n",
    "# Shuffle\n",
    "for i in range(0, len(samples)):\n",
    "    np.random.shuffle(samples[i])\n",
    "    \n",
    "# Print some overview data\n",
    "for i in range(0, len(samples)):\n",
    "    print(len(samples[i]))\n",
    "    print(np.mean(samples[i]))\n",
    "    print(np.std(samples[i]))"
   ]
  },
  {
   "cell_type": "code",
   "execution_count": 19,
   "metadata": {},
   "outputs": [
    {
     "data": {
      "text/plain": [
       "array([2, 3, 2, ..., 1, 1, 2])"
      ]
     },
     "execution_count": 19,
     "metadata": {},
     "output_type": "execute_result"
    }
   ],
   "source": [
    "samples[0]"
   ]
  },
  {
   "cell_type": "code",
   "execution_count": 20,
   "metadata": {},
   "outputs": [
    {
     "name": "stdout",
     "output_type": "stream",
     "text": [
      "50718\n",
      "44167\n"
     ]
    },
    {
     "data": {
      "text/html": [
       "<div>\n",
       "<style scoped>\n",
       "    .dataframe tbody tr th:only-of-type {\n",
       "        vertical-align: middle;\n",
       "    }\n",
       "\n",
       "    .dataframe tbody tr th {\n",
       "        vertical-align: top;\n",
       "    }\n",
       "\n",
       "    .dataframe thead th {\n",
       "        text-align: right;\n",
       "    }\n",
       "</style>\n",
       "<table border=\"1\" class=\"dataframe\">\n",
       "  <thead>\n",
       "    <tr style=\"text-align: right;\">\n",
       "      <th></th>\n",
       "      <th>school_type</th>\n",
       "      <th>grade_level</th>\n",
       "      <th>study_hours</th>\n",
       "      <th>depression</th>\n",
       "    </tr>\n",
       "  </thead>\n",
       "  <tbody>\n",
       "    <tr>\n",
       "      <th>0</th>\n",
       "      <td>2</td>\n",
       "      <td>3</td>\n",
       "      <td>3</td>\n",
       "      <td>10</td>\n",
       "    </tr>\n",
       "    <tr>\n",
       "      <th>1</th>\n",
       "      <td>3</td>\n",
       "      <td>2</td>\n",
       "      <td>0</td>\n",
       "      <td>14</td>\n",
       "    </tr>\n",
       "    <tr>\n",
       "      <th>3</th>\n",
       "      <td>2</td>\n",
       "      <td>2</td>\n",
       "      <td>2</td>\n",
       "      <td>10</td>\n",
       "    </tr>\n",
       "    <tr>\n",
       "      <th>4</th>\n",
       "      <td>2</td>\n",
       "      <td>3</td>\n",
       "      <td>7</td>\n",
       "      <td>15</td>\n",
       "    </tr>\n",
       "    <tr>\n",
       "      <th>5</th>\n",
       "      <td>1</td>\n",
       "      <td>8</td>\n",
       "      <td>3</td>\n",
       "      <td>3</td>\n",
       "    </tr>\n",
       "  </tbody>\n",
       "</table>\n",
       "</div>"
      ],
      "text/plain": [
       "   school_type  grade_level  study_hours  depression\n",
       "0            2            3            3          10\n",
       "1            3            2            0          14\n",
       "3            2            2            2          10\n",
       "4            2            3            7          15\n",
       "5            1            8            3           3"
      ]
     },
     "execution_count": 20,
     "metadata": {},
     "output_type": "execute_result"
    }
   ],
   "source": [
    "# Define and remove impossible values\n",
    "# CAUTION: This is a manual step\n",
    "\n",
    "maxDepression = 63\n",
    "minDepression = 0\n",
    "minStudy = 0\n",
    "minSchoolType = 1\n",
    "maxSchoolType = 3\n",
    "minGrade = 1\n",
    "maxGrade = 12\n",
    "\n",
    "removal_counter = 0\n",
    "\n",
    "# Everything in dataframe for easier handling\n",
    "dfSamples = pd.DataFrame(columns=varsInterest)\n",
    "dfSamples['school_type'] = samples[0]\n",
    "dfSamples['grade_level'] = samples[1]\n",
    "dfSamples['study_hours'] = samples[2]\n",
    "dfSamples['depression'] = samples[3]\n",
    "\n",
    "# Drop rows with impossible values\n",
    "print(len(dfSamples))\n",
    "dfSamples = dfSamples.drop(dfSamples[(dfSamples.school_type < 1)].index)\n",
    "dfSamples = dfSamples.drop(dfSamples[(dfSamples.school_type > 3)].index)\n",
    "dfSamples = dfSamples.drop(dfSamples[(dfSamples.grade_level < 1)].index)\n",
    "dfSamples = dfSamples.drop(dfSamples[(dfSamples.grade_level > 12)].index)\n",
    "dfSamples = dfSamples.drop(dfSamples[(dfSamples.study_hours < 0)].index)\n",
    "dfSamples = dfSamples.drop(dfSamples[(dfSamples.depression < 0)].index)\n",
    "dfSamples = dfSamples.drop(dfSamples[(dfSamples.depression > 63)].index)\n",
    "print(len(dfSamples))\n",
    "\n",
    "###############\n",
    "\n",
    "    \n",
    "#print(\"Remaining samples: \" + str(len(newsamplesX)) + \", \" + str(len(newsamplesY)))\n",
    "dfSamples.head()"
   ]
  },
  {
   "cell_type": "markdown",
   "metadata": {},
   "source": [
    "### Divide samples into schools"
   ]
  },
  {
   "cell_type": "code",
   "execution_count": 65,
   "metadata": {
    "scrolled": true
   },
   "outputs": [],
   "source": [
    "# Pandas-version (New)\n",
    "dfSchool = []\n",
    "for i in range(1, len(schoolTypesDict)+1):\n",
    "    dfFiltered = dfSamples[dfSamples.school_type == i]\n",
    "    dfFiltered = np.array_split(dfFiltered, math.floor(len(dfFiltered)/1000))\n",
    "    dfSchool.append(dfFiltered)"
   ]
  },
  {
   "cell_type": "code",
   "execution_count": 66,
   "metadata": {},
   "outputs": [
    {
     "data": {
      "text/html": [
       "<div>\n",
       "<style scoped>\n",
       "    .dataframe tbody tr th:only-of-type {\n",
       "        vertical-align: middle;\n",
       "    }\n",
       "\n",
       "    .dataframe tbody tr th {\n",
       "        vertical-align: top;\n",
       "    }\n",
       "\n",
       "    .dataframe thead th {\n",
       "        text-align: right;\n",
       "    }\n",
       "</style>\n",
       "<table border=\"1\" class=\"dataframe\">\n",
       "  <thead>\n",
       "    <tr style=\"text-align: right;\">\n",
       "      <th></th>\n",
       "      <th>school_type</th>\n",
       "      <th>grade_level</th>\n",
       "      <th>study_hours</th>\n",
       "      <th>depression</th>\n",
       "    </tr>\n",
       "  </thead>\n",
       "  <tbody>\n",
       "    <tr>\n",
       "      <th>12758</th>\n",
       "      <td>3</td>\n",
       "      <td>2</td>\n",
       "      <td>7</td>\n",
       "      <td>9</td>\n",
       "    </tr>\n",
       "    <tr>\n",
       "      <th>12759</th>\n",
       "      <td>3</td>\n",
       "      <td>2</td>\n",
       "      <td>4</td>\n",
       "      <td>15</td>\n",
       "    </tr>\n",
       "    <tr>\n",
       "      <th>12763</th>\n",
       "      <td>3</td>\n",
       "      <td>6</td>\n",
       "      <td>4</td>\n",
       "      <td>22</td>\n",
       "    </tr>\n",
       "    <tr>\n",
       "      <th>12768</th>\n",
       "      <td>3</td>\n",
       "      <td>1</td>\n",
       "      <td>3</td>\n",
       "      <td>8</td>\n",
       "    </tr>\n",
       "    <tr>\n",
       "      <th>12773</th>\n",
       "      <td>3</td>\n",
       "      <td>6</td>\n",
       "      <td>1</td>\n",
       "      <td>2</td>\n",
       "    </tr>\n",
       "  </tbody>\n",
       "</table>\n",
       "</div>"
      ],
      "text/plain": [
       "       school_type  grade_level  study_hours  depression\n",
       "12758            3            2            7           9\n",
       "12759            3            2            4          15\n",
       "12763            3            6            4          22\n",
       "12768            3            1            3           8\n",
       "12773            3            6            1           2"
      ]
     },
     "execution_count": 66,
     "metadata": {},
     "output_type": "execute_result"
    }
   ],
   "source": [
    "dfSchool[2][1].head()"
   ]
  },
  {
   "cell_type": "code",
   "execution_count": 69,
   "metadata": {},
   "outputs": [
    {
     "name": "stderr",
     "output_type": "stream",
     "text": [
      "/var/folders/h5/bnbphcn55jl0mprvxmz92r2w0000gn/T/ipykernel_55705/2880793760.py:9: FutureWarning: The frame.append method is deprecated and will be removed from pandas in a future version. Use pandas.concat instead.\n",
      "  dfTotal = dfTotal.append(dfSchool[i][j], ignore_index=True)\n"
     ]
    }
   ],
   "source": [
    "# Create large single dataframe with all schools\n",
    "\n",
    "currentID = 0\n",
    "dfTotal = pd.DataFrame(columns=['school_ID', 'school_type', 'grade_level', 'study_hours', 'depression'])\n",
    "for i in range(0, len(dfSchool)):\n",
    "    for j in range(0, len(dfSchool[i])):\n",
    "        dfSchool[i][j]['school_ID'] = currentID\n",
    "        #dfSchool[i][j] = dfSchool[i][j][['school_ID'] + [col for col in dfSchool[i][j].columns if col != 'school_ID' ] ] # move school ID to front\n",
    "        dfTotal = dfTotal.append(dfSchool[i][j], ignore_index=True)\n",
    "        currentID += 1"
   ]
  },
  {
   "cell_type": "code",
   "execution_count": 70,
   "metadata": {},
   "outputs": [
    {
     "data": {
      "text/html": [
       "<div>\n",
       "<style scoped>\n",
       "    .dataframe tbody tr th:only-of-type {\n",
       "        vertical-align: middle;\n",
       "    }\n",
       "\n",
       "    .dataframe tbody tr th {\n",
       "        vertical-align: top;\n",
       "    }\n",
       "\n",
       "    .dataframe thead th {\n",
       "        text-align: right;\n",
       "    }\n",
       "</style>\n",
       "<table border=\"1\" class=\"dataframe\">\n",
       "  <thead>\n",
       "    <tr style=\"text-align: right;\">\n",
       "      <th></th>\n",
       "      <th>school_ID</th>\n",
       "      <th>school_type</th>\n",
       "      <th>grade_level</th>\n",
       "      <th>study_hours</th>\n",
       "      <th>depression</th>\n",
       "    </tr>\n",
       "  </thead>\n",
       "  <tbody>\n",
       "    <tr>\n",
       "      <th>44162</th>\n",
       "      <td>41</td>\n",
       "      <td>3</td>\n",
       "      <td>3</td>\n",
       "      <td>3</td>\n",
       "      <td>14</td>\n",
       "    </tr>\n",
       "    <tr>\n",
       "      <th>44163</th>\n",
       "      <td>41</td>\n",
       "      <td>3</td>\n",
       "      <td>8</td>\n",
       "      <td>1</td>\n",
       "      <td>18</td>\n",
       "    </tr>\n",
       "    <tr>\n",
       "      <th>44164</th>\n",
       "      <td>41</td>\n",
       "      <td>3</td>\n",
       "      <td>3</td>\n",
       "      <td>1</td>\n",
       "      <td>6</td>\n",
       "    </tr>\n",
       "    <tr>\n",
       "      <th>44165</th>\n",
       "      <td>41</td>\n",
       "      <td>3</td>\n",
       "      <td>6</td>\n",
       "      <td>5</td>\n",
       "      <td>7</td>\n",
       "    </tr>\n",
       "    <tr>\n",
       "      <th>44166</th>\n",
       "      <td>41</td>\n",
       "      <td>3</td>\n",
       "      <td>5</td>\n",
       "      <td>5</td>\n",
       "      <td>2</td>\n",
       "    </tr>\n",
       "  </tbody>\n",
       "</table>\n",
       "</div>"
      ],
      "text/plain": [
       "      school_ID school_type grade_level study_hours depression\n",
       "44162        41           3           3           3         14\n",
       "44163        41           3           8           1         18\n",
       "44164        41           3           3           1          6\n",
       "44165        41           3           6           5          7\n",
       "44166        41           3           5           5          2"
      ]
     },
     "execution_count": 70,
     "metadata": {},
     "output_type": "execute_result"
    }
   ],
   "source": [
    "dfTotal.tail()"
   ]
  },
  {
   "cell_type": "code",
   "execution_count": 71,
   "metadata": {},
   "outputs": [],
   "source": [
    "len(dfTotal)\n",
    "dfTotal.to_csv(\"total_with_id.csv\", index=False)"
   ]
  },
  {
   "cell_type": "code",
   "execution_count": 25,
   "metadata": {},
   "outputs": [],
   "source": [
    "# Define number of schools to be simulated\n",
    "\n",
    "#number_schools = 200\n",
    "\n",
    "#zipped_samples = np.column_stack((newsamplesX, newsamplesY))\n",
    "#schools = np.array_split(zipped_samples, number_schools)\n",
    "#schoolsX = np.array_split(newsamplesX, number_schools)\n",
    "#schoolsY = np.array_split(newsamplesY, number_schools)"
   ]
  },
  {
   "cell_type": "code",
   "execution_count": 26,
   "metadata": {},
   "outputs": [],
   "source": [
    "#len(zipped_samples)"
   ]
  },
  {
   "cell_type": "code",
   "execution_count": 27,
   "metadata": {},
   "outputs": [],
   "source": [
    "#rawschoolsdf = pd.DataFrame(zipped_samples, columns=['depression', 'study_hours'])\n",
    "#rawschoolsdf.to_csv(\"generated50kmix.csv\", index=False)"
   ]
  },
  {
   "cell_type": "markdown",
   "metadata": {},
   "source": [
    "### Visualize data on one specific school"
   ]
  },
  {
   "cell_type": "code",
   "execution_count": 80,
   "metadata": {},
   "outputs": [
    {
     "name": "stdout",
     "output_type": "stream",
     "text": [
      "1032\n",
      "1032\n"
     ]
    }
   ],
   "source": [
    "dfSelectedSchool = dfTotal[dfTotal.school_ID == oneSchoolIndex]\n",
    "#dfSelectedSchool = dfSelectedSchool[ ['school_ID'] + [ col for col in dfSelectedSchool.columns if col != 'school_ID' ] ]\n",
    "dfSelectedSchool.iloc[:,:-1].head()\n",
    "print(len(dfSelectedSchool.iloc[:,:-1]))\n",
    "print(len(dfSelectedSchool.iloc[:,-1]))"
   ]
  },
  {
   "cell_type": "code",
   "execution_count": 84,
   "metadata": {
    "scrolled": true
   },
   "outputs": [
    {
     "name": "stdout",
     "output_type": "stream",
     "text": [
      "depression\n"
     ]
    },
    {
     "data": {
      "image/png": "[encoded data removed]",
      "text/plain": [
       "<Figure size 432x288 with 1 Axes>"
      ]
     },
     "metadata": {
      "needs_background": "light"
     },
     "output_type": "display_data"
    }
   ],
   "source": [
    "# Select some school\n",
    "oneSchoolIndex = 21\n",
    "\n",
    "# Plot that school's data\n",
    "dfSelectedSchool = dfTotal[dfTotal.school_ID == oneSchoolIndex]\n",
    "plt.scatter(dfSelectedSchool['depression'], dfSelectedSchool['study_hours'])\n",
    "plt.xlabel(varX)\n",
    "plt.ylabel(varY)\n",
    "plt.title(\"Raw visualization on school \" + str(oneSchoolIndex))"
   ]
  },
  {
   "cell_type": "markdown",
   "metadata": {},
   "source": [
    "### Adjust data (skewing) of one school"
   ]
  },
  {
   "cell_type": "code",
   "execution_count": 121,
   "metadata": {},
   "outputs": [],
   "source": [
    "# Problemschule: 5\n",
    "indexProblemSchool = 5\n",
    "# Top-Schule: 30\n",
    "indexTopSchool = 30\n",
    "# Normale Schule: 39\n",
    "indexNormSchool = 39"
   ]
  },
  {
   "cell_type": "code",
   "execution_count": null,
   "metadata": {},
   "outputs": [],
   "source": [
    "invMapSchoolTypes = {v: k for k, v in schoolTypesDict.items()}\n",
    "dfTotal = dfTotal.replace({'school_type': invMapSchoolTypes})"
   ]
  },
  {
   "cell_type": "code",
   "execution_count": 259,
   "metadata": {},
   "outputs": [
    {
     "name": "stdout",
     "output_type": "stream",
     "text": [
      "     school_ID school_type grade_level study_hours depression\n",
      "5195         5  Wirtschaft           5           7         11\n",
      "5196         5  Wirtschaft           4           6         12\n",
      "Problem school mean depression pre: 11.803657362848893\n",
      "Problem school mean studyhours pre: 3.0798845043310874\n",
      "Top school mean depression pre: 11.759456838021338\n",
      "Top school mean studyhours pre: 3.1522793404461686\n",
      "\n",
      "Problem school mean depression post: 13.2536609071381\n",
      "Problem school mean studyhours post: 2.218809627093596\n",
      "Top school mean depression post: 9.954796187011574\n",
      "Top school mean depression post: 4.111780981095744\n"
     ]
    },
    {
     "name": "stderr",
     "output_type": "stream",
     "text": [
      "/var/folders/h5/bnbphcn55jl0mprvxmz92r2w0000gn/T/ipykernel_55705/769759113.py:66: SettingWithCopyWarning: \n",
      "A value is trying to be set on a copy of a slice from a DataFrame.\n",
      "Try using .loc[row_indexer,col_indexer] = value instead\n",
      "\n",
      "See the caveats in the documentation: https://pandas.pydata.org/pandas-docs/stable/user_guide/indexing.html#returning-a-view-versus-a-copy\n",
      "  dfTopSchool['depression'] = npTopSchoolDepression\n",
      "/var/folders/h5/bnbphcn55jl0mprvxmz92r2w0000gn/T/ipykernel_55705/769759113.py:67: SettingWithCopyWarning: \n",
      "A value is trying to be set on a copy of a slice from a DataFrame.\n",
      "Try using .loc[row_indexer,col_indexer] = value instead\n",
      "\n",
      "See the caveats in the documentation: https://pandas.pydata.org/pandas-docs/stable/user_guide/indexing.html#returning-a-view-versus-a-copy\n",
      "  dfTopSchool['study_hours'] = npTopSchoolStudyHours\n",
      "/var/folders/h5/bnbphcn55jl0mprvxmz92r2w0000gn/T/ipykernel_55705/769759113.py:68: SettingWithCopyWarning: \n",
      "A value is trying to be set on a copy of a slice from a DataFrame.\n",
      "Try using .loc[row_indexer,col_indexer] = value instead\n",
      "\n",
      "See the caveats in the documentation: https://pandas.pydata.org/pandas-docs/stable/user_guide/indexing.html#returning-a-view-versus-a-copy\n",
      "  dfNormSchool['study_hours'] = npNormSchoolStudyHours\n"
     ]
    }
   ],
   "source": [
    "dfProblemSchool = dfTotal[dfTotal.school_ID == indexProblemSchool]\n",
    "dfTopSchool = dfTotal[dfTotal.school_ID == indexTopSchool]\n",
    "dfNormSchool = dfTotal[dfTotal.school_ID == indexNormSchool]\n",
    "\n",
    "dfProblemSchool = dfProblemSchool.replace({'school_type': inv_map})\n",
    "print(dfProblemSchool.head(2))\n",
    "\n",
    "print(\"Problem school mean depression pre: \" + str(dfProblemSchool.depression.mean()))\n",
    "print(\"Problem school mean studyhours pre: \" + str(dfProblemSchool.study_hours.mean()))\n",
    "print(\"Top school mean depression pre: \" + str(dfTopSchool.depression.mean()))\n",
    "print(\"Top school mean studyhours pre: \" + str(dfTopSchool.study_hours.mean()))\n",
    "\n",
    "npProblemSchoolDepression = stats.NormalDist(mu=dfInterest.depression.mean()+2, \n",
    "                                       sigma=dfInterest.depression.std()+1).samples(len(dfProblemSchool), \n",
    "                                                                                         seed=1)\n",
    "npTopSchoolDepression = stats.NormalDist(mu=dfTopSchool.depression.mean()-2,\n",
    "                                  sigma=dfTopSchool.depression.std()+1).samples(len(dfTopSchool), \n",
    "                                                                                seed=1)\n",
    "\n",
    "npProblemSchoolStudyHours = stats.NormalDist(mu=dfProblemSchool.study_hours.mean()-1,\n",
    "                                            sigma=dfProblemSchool.study_hours.std()).samples(len(dfProblemSchool), \n",
    "                                                                                             seed=1)\n",
    "npTopSchoolStudyHours = stats.NormalDist(mu=dfTopSchool.study_hours.mean()+1,\n",
    "                                            sigma=dfTopSchool.study_hours.std()).samples(len(dfTopSchool), \n",
    "                                                                                             seed=1)\n",
    "\n",
    "# norm school does not need to be modified\n",
    "\n",
    "# Randomize a bit to obtain real-valued numbers for study_hours\n",
    "randFactorsProblem = np.random.uniform(0.75,1.25, len(dfProblemSchool))\n",
    "randFactorsTop = np.random.uniform(0.75,1.25, len(dfTopSchool))\n",
    "randFactorsNorm = np.random.uniform(0.75,1.25, len(dfNormSchool))\n",
    "\n",
    "npProblemSchoolStudyHours = npProblemSchoolStudyHours * randFactorsProblem\n",
    "npTopSchoolStudyHours = npTopSchoolStudyHours * randFactorsTop\n",
    "#npNormSchoolStudyHours = dfNormSchool.study_hours * randFactorsNorm\n",
    "\n",
    "# Remove illegal values\n",
    "for i in range(0, len(npProblemSchoolDepression)):\n",
    "    if npProblemSchoolDepression[i] < 0:\n",
    "        npProblemSchoolDepression[i] = 0\n",
    "    if npProblemSchoolDepression[i] > 35:\n",
    "        npProblemSchoolDepression[i] = 35\n",
    "    if npProblemSchoolStudyHours[i] < 0:\n",
    "        npProblemSchoolStudyHours[i] = 0\n",
    "    \n",
    "for i in range(0, len(npTopSchoolDepression)):\n",
    "    if npTopSchoolDepression[i] < 0:\n",
    "        npTopSchoolDepression[i] = 0\n",
    "    if npTopSchoolDepression[i] > 35:\n",
    "        npTopSchoolDepression[i] = 35\n",
    "    if npTopSchoolStudyHours[i] < 0:\n",
    "        npTopSchoolStudyHours[i] = 0\n",
    "        \n",
    "# Shuffle\n",
    "np.random.shuffle(npTopSchoolDepression)\n",
    "np.random.shuffle(npProblemSchoolDepression)\n",
    "np.random.shuffle(npProblemSchoolStudyHours)\n",
    "np.random.shuffle(npTopSchoolStudyHours)\n",
    "#np.random.shuffle(npNormSchoolStudyHours)\n",
    "        \n",
    "# Replace original values in dataframe by adjusted values\n",
    "dfProblemSchool['depression'] = npProblemSchoolDepression\n",
    "dfProblemSchool['study_hours'] = npProblemSchoolStudyHours\n",
    "dfTopSchool['depression'] = npTopSchoolDepression\n",
    "dfTopSchool['study_hours'] = npTopSchoolStudyHours\n",
    "dfNormSchool['study_hours'] = npNormSchoolStudyHours\n",
    "\n",
    "print()\n",
    "print(\"Problem school mean depression post: \" + str(dfProblemSchool.depression.mean()))\n",
    "print(\"Problem school mean studyhours post: \" + str(dfProblemSchool.study_hours.mean()))\n",
    "print(\"Top school mean depression post: \" + str(dfTopSchool.depression.mean()))\n",
    "print(\"Top school mean depression post: \" + str(dfTopSchool.study_hours.mean()))"
   ]
  },
  {
   "cell_type": "code",
   "execution_count": 249,
   "metadata": {},
   "outputs": [
    {
     "data": {
      "text/html": [
       "<div>\n",
       "<style scoped>\n",
       "    .dataframe tbody tr th:only-of-type {\n",
       "        vertical-align: middle;\n",
       "    }\n",
       "\n",
       "    .dataframe tbody tr th {\n",
       "        vertical-align: top;\n",
       "    }\n",
       "\n",
       "    .dataframe thead th {\n",
       "        text-align: right;\n",
       "    }\n",
       "</style>\n",
       "<table border=\"1\" class=\"dataframe\">\n",
       "  <thead>\n",
       "    <tr style=\"text-align: right;\">\n",
       "      <th></th>\n",
       "      <th>study_hours</th>\n",
       "      <th>depression</th>\n",
       "    </tr>\n",
       "  </thead>\n",
       "  <tbody>\n",
       "    <tr>\n",
       "      <th>count</th>\n",
       "      <td>1039.000000</td>\n",
       "      <td>1039.000000</td>\n",
       "    </tr>\n",
       "    <tr>\n",
       "      <th>mean</th>\n",
       "      <td>2.237639</td>\n",
       "      <td>13.253661</td>\n",
       "    </tr>\n",
       "    <tr>\n",
       "      <th>std</th>\n",
       "      <td>1.782429</td>\n",
       "      <td>7.089938</td>\n",
       "    </tr>\n",
       "    <tr>\n",
       "      <th>min</th>\n",
       "      <td>0.000000</td>\n",
       "      <td>0.000000</td>\n",
       "    </tr>\n",
       "    <tr>\n",
       "      <th>25%</th>\n",
       "      <td>0.712968</td>\n",
       "      <td>8.255062</td>\n",
       "    </tr>\n",
       "    <tr>\n",
       "      <th>50%</th>\n",
       "      <td>2.012696</td>\n",
       "      <td>13.143444</td>\n",
       "    </tr>\n",
       "    <tr>\n",
       "      <th>75%</th>\n",
       "      <td>3.465053</td>\n",
       "      <td>18.387792</td>\n",
       "    </tr>\n",
       "    <tr>\n",
       "      <th>max</th>\n",
       "      <td>9.095531</td>\n",
       "      <td>33.281206</td>\n",
       "    </tr>\n",
       "  </tbody>\n",
       "</table>\n",
       "</div>"
      ],
      "text/plain": [
       "       study_hours   depression\n",
       "count  1039.000000  1039.000000\n",
       "mean      2.237639    13.253661\n",
       "std       1.782429     7.089938\n",
       "min       0.000000     0.000000\n",
       "25%       0.712968     8.255062\n",
       "50%       2.012696    13.143444\n",
       "75%       3.465053    18.387792\n",
       "max       9.095531    33.281206"
      ]
     },
     "execution_count": 249,
     "metadata": {},
     "output_type": "execute_result"
    }
   ],
   "source": [
    "dfProblemSchool.describe()"
   ]
  },
  {
   "cell_type": "code",
   "execution_count": 250,
   "metadata": {},
   "outputs": [
    {
     "data": {
      "text/html": [
       "<div>\n",
       "<style scoped>\n",
       "    .dataframe tbody tr th:only-of-type {\n",
       "        vertical-align: middle;\n",
       "    }\n",
       "\n",
       "    .dataframe tbody tr th {\n",
       "        vertical-align: top;\n",
       "    }\n",
       "\n",
       "    .dataframe thead th {\n",
       "        text-align: right;\n",
       "    }\n",
       "</style>\n",
       "<table border=\"1\" class=\"dataframe\">\n",
       "  <thead>\n",
       "    <tr style=\"text-align: right;\">\n",
       "      <th></th>\n",
       "      <th>study_hours</th>\n",
       "      <th>depression</th>\n",
       "    </tr>\n",
       "  </thead>\n",
       "  <tbody>\n",
       "    <tr>\n",
       "      <th>count</th>\n",
       "      <td>1031.000000</td>\n",
       "      <td>1031.000000</td>\n",
       "    </tr>\n",
       "    <tr>\n",
       "      <th>mean</th>\n",
       "      <td>4.153621</td>\n",
       "      <td>9.954796</td>\n",
       "    </tr>\n",
       "    <tr>\n",
       "      <th>std</th>\n",
       "      <td>2.013161</td>\n",
       "      <td>6.435457</td>\n",
       "    </tr>\n",
       "    <tr>\n",
       "      <th>min</th>\n",
       "      <td>0.000000</td>\n",
       "      <td>0.000000</td>\n",
       "    </tr>\n",
       "    <tr>\n",
       "      <th>25%</th>\n",
       "      <td>2.724038</td>\n",
       "      <td>5.003288</td>\n",
       "    </tr>\n",
       "    <tr>\n",
       "      <th>50%</th>\n",
       "      <td>4.100809</td>\n",
       "      <td>9.682837</td>\n",
       "    </tr>\n",
       "    <tr>\n",
       "      <th>75%</th>\n",
       "      <td>5.564462</td>\n",
       "      <td>14.668907</td>\n",
       "    </tr>\n",
       "    <tr>\n",
       "      <th>max</th>\n",
       "      <td>11.656305</td>\n",
       "      <td>28.769954</td>\n",
       "    </tr>\n",
       "  </tbody>\n",
       "</table>\n",
       "</div>"
      ],
      "text/plain": [
       "       study_hours   depression\n",
       "count  1031.000000  1031.000000\n",
       "mean      4.153621     9.954796\n",
       "std       2.013161     6.435457\n",
       "min       0.000000     0.000000\n",
       "25%       2.724038     5.003288\n",
       "50%       4.100809     9.682837\n",
       "75%       5.564462    14.668907\n",
       "max      11.656305    28.769954"
      ]
     },
     "execution_count": 250,
     "metadata": {},
     "output_type": "execute_result"
    }
   ],
   "source": [
    "dfTopSchool.describe()"
   ]
  },
  {
   "cell_type": "code",
   "execution_count": 251,
   "metadata": {},
   "outputs": [
    {
     "data": {
      "text/plain": [
       "1217"
      ]
     },
     "execution_count": 251,
     "metadata": {},
     "output_type": "execute_result"
    }
   ],
   "source": [
    "len(dfNormSchool)"
   ]
  },
  {
   "cell_type": "code",
   "execution_count": null,
   "metadata": {},
   "outputs": [],
   "source": []
  },
  {
   "cell_type": "code",
   "execution_count": 252,
   "metadata": {},
   "outputs": [],
   "source": []
  },
  {
   "cell_type": "code",
   "execution_count": 253,
   "metadata": {},
   "outputs": [
    {
     "data": {
      "text/plain": [
       "Text(0.5, 1.0, 'Visualization on schools ')"
      ]
     },
     "execution_count": 253,
     "metadata": {},
     "output_type": "execute_result"
    },
    {
     "data": {
      "image/png": "[encoded data removed]",
      "text/plain": [
       "<Figure size 432x288 with 1 Axes>"
      ]
     },
     "metadata": {
      "needs_background": "light"
     },
     "output_type": "display_data"
    }
   ],
   "source": [
    "# Visualize clustering across the contract schools\n",
    "colors = ['blue', 'red', 'green', 'yellow', 'orange', 'purple', 'brown']\n",
    "\n",
    "#plt.scatter(brokerClusters[i][varX], brokerClusters[i][varY], color=colors[i])\n",
    "plt.scatter(dfTopSchool['depression'], dfTopSchool['study_hours'], color='blue')\n",
    "plt.scatter(dfProblemSchool['depression'], dfProblemSchool['study_hours'], color='orange')\n",
    "plt.scatter(dfNormSchool['depression'], dfNormSchool['study_hours'], color='purple')\n",
    "    \n",
    "plt.xlabel(varX)\n",
    "plt.ylabel(varY)\n",
    "plt.title(\"Visualization on schools \")\n",
    "#print(\"Mean \" + varX + \": \" + str(brokerdf[varX].mean()))\n",
    "#print(\"Std \" + varX + \": \" + str(brokerdf[varX].std()))\n",
    "#print(\"Mean \" + varY + \": \" + str(brokerdf[varY].mean()))\n",
    "#print(\"Std \" + varY + \": \" + str(brokerdf[varY].std()))"
   ]
  },
  {
   "cell_type": "code",
   "execution_count": 262,
   "metadata": {},
   "outputs": [
    {
     "name": "stderr",
     "output_type": "stream",
     "text": [
      "/var/folders/h5/bnbphcn55jl0mprvxmz92r2w0000gn/T/ipykernel_55705/2673930514.py:4: SettingWithCopyWarning: \n",
      "A value is trying to be set on a copy of a slice from a DataFrame\n",
      "\n",
      "See the caveats in the documentation: https://pandas.pydata.org/pandas-docs/stable/user_guide/indexing.html#returning-a-view-versus-a-copy\n",
      "  dfTopSchool.rename(columns=easyColumnsDict, inplace=True)\n",
      "/var/folders/h5/bnbphcn55jl0mprvxmz92r2w0000gn/T/ipykernel_55705/2673930514.py:6: SettingWithCopyWarning: \n",
      "A value is trying to be set on a copy of a slice from a DataFrame\n",
      "\n",
      "See the caveats in the documentation: https://pandas.pydata.org/pandas-docs/stable/user_guide/indexing.html#returning-a-view-versus-a-copy\n",
      "  dfNormSchool.rename(columns=easyColumnsDict, inplace=True)\n"
     ]
    }
   ],
   "source": [
    "easyColumnsDict = {'school_ID': 'Schul-ID', 'school_type': 'Schultyp', 'grade_level': 'Klassenstufe',\n",
    "                  'study_hours': 'Lernzeit/Woche', 'depression': 'Depressions-Score'}\n",
    "\n",
    "dfTopSchool.rename(columns=easyColumnsDict, inplace=True)\n",
    "dfProblemSchool.rename(columns=easyColumnsDict, inplace=True)\n",
    "dfNormSchool.rename(columns=easyColumnsDict, inplace=True)\n",
    "\n",
    "dfTopSchool.to_csv(\"best_school.csv\", index=False)\n",
    "dfProblemSchool.to_csv(\"worst_school.csv\", index=False)\n",
    "dfNormSchool.to_csv(\"average_school.csv\", index=False)"
   ]
  },
  {
   "cell_type": "markdown",
   "metadata": {},
   "source": [
    "### Clustering on one specific school (student comparison)"
   ]
  },
  {
   "cell_type": "code",
   "execution_count": 85,
   "metadata": {},
   "outputs": [
    {
     "ename": "NameError",
     "evalue": "name 'schools' is not defined",
     "output_type": "error",
     "traceback": [
      "\u001b[0;31m---------------------------------------------------------------------------\u001b[0m",
      "\u001b[0;31mNameError\u001b[0m                                 Traceback (most recent call last)",
      "Input \u001b[0;32mIn [85]\u001b[0m, in \u001b[0;36m<cell line: 4>\u001b[0;34m()\u001b[0m\n\u001b[1;32m      2\u001b[0m \u001b[38;5;28;01mfrom\u001b[39;00m \u001b[38;5;21;01msklearn\u001b[39;00m\u001b[38;5;21;01m.\u001b[39;00m\u001b[38;5;21;01mpreprocessing\u001b[39;00m \u001b[38;5;28;01mimport\u001b[39;00m StandardScaler\n\u001b[1;32m      3\u001b[0m oneScaler \u001b[38;5;241m=\u001b[39m StandardScaler()\n\u001b[0;32m----> 4\u001b[0m oneX \u001b[38;5;241m=\u001b[39m \u001b[43mschools\u001b[49m[oneSchoolIndex]\n\u001b[1;32m      5\u001b[0m oneXscaled \u001b[38;5;241m=\u001b[39m oneScaler\u001b[38;5;241m.\u001b[39mfit_transform(oneX)\n",
      "\u001b[0;31mNameError\u001b[0m: name 'schools' is not defined"
     ]
    }
   ],
   "source": [
    "# Normalize data of that school\n",
    "from sklearn.preprocessing import StandardScaler\n",
    "oneScaler = StandardScaler()\n",
    "oneX = schools[oneSchoolIndex]\n",
    "oneXscaled = oneScaler.fit_transform(oneX)"
   ]
  },
  {
   "cell_type": "code",
   "execution_count": null,
   "metadata": {},
   "outputs": [],
   "source": [
    "from sklearn.cluster import KMeans\n",
    "number_clusters = 4\n",
    "\n",
    "oneKmeans = KMeans(n_clusters=number_clusters, random_state=0).fit(oneXscaled)"
   ]
  },
  {
   "cell_type": "code",
   "execution_count": 221,
   "metadata": {},
   "outputs": [
    {
     "data": {
      "text/plain": [
       "230"
      ]
     },
     "execution_count": 221,
     "metadata": {},
     "output_type": "execute_result"
    }
   ],
   "source": [
    "# Create dataframe for easier handling\n",
    "\n",
    "onedf = pd.DataFrame(oneX, columns=[varX, varY])\n",
    "onedf['label'] = oneKmeans.labels_\n",
    "onedf.head()"
   ]
  },
  {
   "cell_type": "code",
   "execution_count": 145,
   "metadata": {},
   "outputs": [],
   "source": [
    "# Group by cluster into separate dataframes\n",
    "\n",
    "oneClusters = list()\n",
    "for i in range(0, number_clusters):\n",
    "    oneClusters.append(onedf[onedf['label'] == i])"
   ]
  },
  {
   "cell_type": "code",
   "execution_count": 146,
   "metadata": {},
   "outputs": [
    {
     "name": "stdout",
     "output_type": "stream",
     "text": [
      "Mean depression: 11.371530532292725\n",
      "Std depression: 6.231088779794578\n",
      "Mean study_hours: 3.2119545254560613\n",
      "Std study_hours: 2.00186699922579\n"
     ]
    },
    {
     "data": {
      "image/png": "[encoded data removed]",
      "text/plain": [
       "<Figure size 432x288 with 1 Axes>"
      ]
     },
     "metadata": {
      "needs_background": "light"
     },
     "output_type": "display_data"
    }
   ],
   "source": [
    "# Visualize one school clustering\n",
    "colors = ['blue', 'red', 'green', 'yellow', 'orange', 'purple', 'brown']\n",
    "\n",
    "for i in range(0, number_clusters):\n",
    "    plt.scatter(oneClusters[i][varX], oneClusters[i][varY], color=colors[i])\n",
    "    \n",
    "plt.xlabel(varX)\n",
    "plt.ylabel(varY)\n",
    "plt.title(\"Clustering on school \" + str(oneSchoolIndex))\n",
    "print(\"Mean \" + varX + \": \" + str(onedf[varX].mean()))\n",
    "print(\"Std \" + varX + \": \" + str(onedf[varX].std()))\n",
    "print(\"Mean \" + varY + \": \" + str(onedf[varY].mean()))\n",
    "print(\"Std \" + varY + \": \" + str(onedf[varY].std()))"
   ]
  },
  {
   "cell_type": "markdown",
   "metadata": {},
   "source": [
    "# Clustering over all schools (school comparison)"
   ]
  },
  {
   "cell_type": "markdown",
   "metadata": {},
   "source": [
    "## By all students"
   ]
  },
  {
   "cell_type": "code",
   "execution_count": 147,
   "metadata": {},
   "outputs": [
    {
     "name": "stdout",
     "output_type": "stream",
     "text": [
      "0\n",
      "1\n",
      "2\n"
     ]
    }
   ],
   "source": [
    "# Define the schools that are part of the contract\n",
    "contractSchoolsIndices = [0,1,2]\n",
    "\n",
    "# Integrate their respective data\n",
    "contractX = np.array([])\n",
    "contractY = np.array([])\n",
    "\n",
    "for i in range(0, np.max(contractSchoolsIndices)+1):\n",
    "    if i in contractSchoolsIndices:\n",
    "        print(i)\n",
    "        for j in range(0, len(schoolsX[i])):\n",
    "            contractX = np.append(contractX, schoolsX[i][j])\n",
    "            contractY = np.append(contractY, schoolsY[i][j])"
   ]
  },
  {
   "cell_type": "code",
   "execution_count": null,
   "metadata": {},
   "outputs": [],
   "source": []
  },
  {
   "cell_type": "code",
   "execution_count": 148,
   "metadata": {},
   "outputs": [],
   "source": [
    "# Normalize data\n",
    "contractScaler = StandardScaler()\n",
    "brokerX = np.column_stack((contractX, contractY))\n",
    "brokerXscaled = contractScaler.fit_transform(brokerX)"
   ]
  },
  {
   "cell_type": "code",
   "execution_count": 149,
   "metadata": {},
   "outputs": [],
   "source": [
    "# Perform clustering\n",
    "number_clusters = 4\n",
    "\n",
    "brokerKmeans = KMeans(n_clusters=number_clusters, random_state=0).fit(brokerXscaled)"
   ]
  },
  {
   "cell_type": "code",
   "execution_count": 150,
   "metadata": {},
   "outputs": [
    {
     "data": {
      "text/html": [
       "<div>\n",
       "<style scoped>\n",
       "    .dataframe tbody tr th:only-of-type {\n",
       "        vertical-align: middle;\n",
       "    }\n",
       "\n",
       "    .dataframe tbody tr th {\n",
       "        vertical-align: top;\n",
       "    }\n",
       "\n",
       "    .dataframe thead th {\n",
       "        text-align: right;\n",
       "    }\n",
       "</style>\n",
       "<table border=\"1\" class=\"dataframe\">\n",
       "  <thead>\n",
       "    <tr style=\"text-align: right;\">\n",
       "      <th></th>\n",
       "      <th>depression</th>\n",
       "      <th>study_hours</th>\n",
       "      <th>label</th>\n",
       "    </tr>\n",
       "  </thead>\n",
       "  <tbody>\n",
       "    <tr>\n",
       "      <th>0</th>\n",
       "      <td>15.611100</td>\n",
       "      <td>1.155303</td>\n",
       "      <td>1</td>\n",
       "    </tr>\n",
       "    <tr>\n",
       "      <th>1</th>\n",
       "      <td>11.159795</td>\n",
       "      <td>5.704238</td>\n",
       "      <td>2</td>\n",
       "    </tr>\n",
       "    <tr>\n",
       "      <th>2</th>\n",
       "      <td>14.982715</td>\n",
       "      <td>3.020877</td>\n",
       "      <td>1</td>\n",
       "    </tr>\n",
       "    <tr>\n",
       "      <th>3</th>\n",
       "      <td>11.070010</td>\n",
       "      <td>5.936404</td>\n",
       "      <td>2</td>\n",
       "    </tr>\n",
       "    <tr>\n",
       "      <th>4</th>\n",
       "      <td>5.401305</td>\n",
       "      <td>1.011676</td>\n",
       "      <td>3</td>\n",
       "    </tr>\n",
       "  </tbody>\n",
       "</table>\n",
       "</div>"
      ],
      "text/plain": [
       "   depression  study_hours  label\n",
       "0   15.611100     1.155303      1\n",
       "1   11.159795     5.704238      2\n",
       "2   14.982715     3.020877      1\n",
       "3   11.070010     5.936404      2\n",
       "4    5.401305     1.011676      3"
      ]
     },
     "execution_count": 150,
     "metadata": {},
     "output_type": "execute_result"
    }
   ],
   "source": [
    "# Create dataframe for easier handling\n",
    "\n",
    "brokerdf = pd.DataFrame(brokerX, columns=[varX, varY])\n",
    "brokerdf['label'] = brokerKmeans.labels_\n",
    "brokerdf.head()"
   ]
  },
  {
   "cell_type": "code",
   "execution_count": 151,
   "metadata": {},
   "outputs": [],
   "source": [
    "# Group by cluster into separate dataframes\n",
    "\n",
    "brokerClusters = list()\n",
    "for i in range(0, number_clusters):\n",
    "    brokerClusters.append(brokerdf[brokerdf['label'] == i])"
   ]
  },
  {
   "cell_type": "code",
   "execution_count": 152,
   "metadata": {},
   "outputs": [
    {
     "name": "stdout",
     "output_type": "stream",
     "text": [
      "Mean depression: 11.615037878395697\n",
      "Std depression: 6.413545968430285\n",
      "Mean study_hours: 3.1534714686404404\n",
      "Std study_hours: 1.9615153752204295\n"
     ]
    },
    {
     "data": {
      "image/png": "[encoded data removed]",
      "text/plain": [
       "<Figure size 432x288 with 1 Axes>"
      ]
     },
     "metadata": {
      "needs_background": "light"
     },
     "output_type": "display_data"
    }
   ],
   "source": [
    "# Visualize clustering across the contract schools\n",
    "colors = ['blue', 'red', 'green', 'yellow', 'orange', 'purple', 'brown']\n",
    "\n",
    "for i in range(0, number_clusters):\n",
    "    plt.scatter(brokerClusters[i][varX], brokerClusters[i][varY], color=colors[i])\n",
    "    \n",
    "plt.xlabel(varX)\n",
    "plt.ylabel(varY)\n",
    "plt.title(\"Clustering on schools \" + str(contractSchoolsIndices))\n",
    "print(\"Mean \" + varX + \": \" + str(brokerdf[varX].mean()))\n",
    "print(\"Std \" + varX + \": \" + str(brokerdf[varX].std()))\n",
    "print(\"Mean \" + varY + \": \" + str(brokerdf[varY].mean()))\n",
    "print(\"Std \" + varY + \": \" + str(brokerdf[varY].std()))"
   ]
  },
  {
   "cell_type": "code",
   "execution_count": null,
   "metadata": {},
   "outputs": [],
   "source": []
  },
  {
   "cell_type": "markdown",
   "metadata": {},
   "source": [
    "## By mean values"
   ]
  },
  {
   "cell_type": "code",
   "execution_count": 153,
   "metadata": {},
   "outputs": [
    {
     "data": {
      "text/plain": [
       "array([[11.81315771,  3.05938215],\n",
       "       [11.37153053,  3.21195453],\n",
       "       [11.66042539,  3.18907773],\n",
       "       [11.39979662,  3.02141953],\n",
       "       [11.45150421,  2.93326381],\n",
       "       [12.24380585,  3.30102945],\n",
       "       [12.01768771,  3.2133738 ],\n",
       "       [11.80047918,  2.88066763],\n",
       "       [12.31414703,  3.12630345],\n",
       "       [11.71052133,  3.1081137 ]])"
      ]
     },
     "execution_count": 153,
     "metadata": {},
     "output_type": "execute_result"
    }
   ],
   "source": [
    "# Determine mean X and Y values of each school\n",
    "\n",
    "multiXmeans = np.array([])\n",
    "multiYmeans = np.array([])\n",
    "for i in range(0, number_schools):\n",
    "    multiXmeans = np.append(multiXmeans, np.mean(schoolsX[i]))\n",
    "    multiYmeans = np.append(multiYmeans, np.mean(schoolsY[i]))\n",
    "    \n",
    "multiX = np.column_stack((multiXmeans, multiYmeans))\n",
    "multiX[:10]"
   ]
  },
  {
   "cell_type": "code",
   "execution_count": 154,
   "metadata": {},
   "outputs": [
    {
     "data": {
      "text/plain": [
       "array([[ 0.29163769, -0.39359406],\n",
       "       [-0.74726859,  0.83262133],\n",
       "       [-0.06765759,  0.64876183],\n",
       "       [-0.68077401, -0.69869751],\n",
       "       [-0.55913443, -1.40719995],\n",
       "       [ 1.30471632,  1.54851138],\n",
       "       [ 0.77278448,  0.84402797],\n",
       "       [ 0.26181207, -1.82991238],\n",
       "       [ 1.47019051,  0.14424854],\n",
       "       [ 0.05019065, -0.00194144]])"
      ]
     },
     "execution_count": 154,
     "metadata": {},
     "output_type": "execute_result"
    }
   ],
   "source": [
    "# Normalize data\n",
    "\n",
    "multiScaler = StandardScaler()\n",
    "multiXscaled = oneScaler.fit_transform(multiX)\n",
    "multiXscaled[:10]"
   ]
  },
  {
   "cell_type": "code",
   "execution_count": 155,
   "metadata": {},
   "outputs": [],
   "source": [
    "# Perform clustering\n",
    "\n",
    "multiKmeans = KMeans(n_clusters=number_clusters, random_state=0).fit(multiXscaled)"
   ]
  },
  {
   "cell_type": "code",
   "execution_count": 156,
   "metadata": {},
   "outputs": [
    {
     "data": {
      "text/html": [
       "<div>\n",
       "<style scoped>\n",
       "    .dataframe tbody tr th:only-of-type {\n",
       "        vertical-align: middle;\n",
       "    }\n",
       "\n",
       "    .dataframe tbody tr th {\n",
       "        vertical-align: top;\n",
       "    }\n",
       "\n",
       "    .dataframe thead th {\n",
       "        text-align: right;\n",
       "    }\n",
       "</style>\n",
       "<table border=\"1\" class=\"dataframe\">\n",
       "  <thead>\n",
       "    <tr style=\"text-align: right;\">\n",
       "      <th></th>\n",
       "      <th>depression</th>\n",
       "      <th>study_hours</th>\n",
       "      <th>label</th>\n",
       "    </tr>\n",
       "  </thead>\n",
       "  <tbody>\n",
       "    <tr>\n",
       "      <th>0</th>\n",
       "      <td>11.813158</td>\n",
       "      <td>3.059382</td>\n",
       "      <td>2</td>\n",
       "    </tr>\n",
       "    <tr>\n",
       "      <th>1</th>\n",
       "      <td>11.371531</td>\n",
       "      <td>3.211955</td>\n",
       "      <td>3</td>\n",
       "    </tr>\n",
       "    <tr>\n",
       "      <th>2</th>\n",
       "      <td>11.660425</td>\n",
       "      <td>3.189078</td>\n",
       "      <td>3</td>\n",
       "    </tr>\n",
       "    <tr>\n",
       "      <th>3</th>\n",
       "      <td>11.399797</td>\n",
       "      <td>3.021420</td>\n",
       "      <td>2</td>\n",
       "    </tr>\n",
       "    <tr>\n",
       "      <th>4</th>\n",
       "      <td>11.451504</td>\n",
       "      <td>2.933264</td>\n",
       "      <td>2</td>\n",
       "    </tr>\n",
       "  </tbody>\n",
       "</table>\n",
       "</div>"
      ],
      "text/plain": [
       "   depression  study_hours  label\n",
       "0   11.813158     3.059382      2\n",
       "1   11.371531     3.211955      3\n",
       "2   11.660425     3.189078      3\n",
       "3   11.399797     3.021420      2\n",
       "4   11.451504     2.933264      2"
      ]
     },
     "execution_count": 156,
     "metadata": {},
     "output_type": "execute_result"
    }
   ],
   "source": [
    "# Create dataframe for easier handling\n",
    "\n",
    "multidf = pd.DataFrame(multiX, columns=[varX, varY])\n",
    "multidf['label'] = multiKmeans.labels_\n",
    "multidf.head()"
   ]
  },
  {
   "cell_type": "code",
   "execution_count": 157,
   "metadata": {},
   "outputs": [],
   "source": [
    "# Group by cluster into separate dataframes\n",
    "\n",
    "multiClusters = list()\n",
    "for i in range(0, number_clusters):\n",
    "    multiClusters.append(multidf[multidf['label'] == i])"
   ]
  },
  {
   "cell_type": "code",
   "execution_count": 158,
   "metadata": {},
   "outputs": [
    {
     "name": "stdout",
     "output_type": "stream",
     "text": [
      "Mean depression: 11.371530532292725\n",
      "Std depression: 6.231088779794578\n",
      "Mean study_hours: 3.2119545254560613\n",
      "Std study_hours: 2.00186699922579\n"
     ]
    },
    {
     "data": {
      "image/png": "[encoded data removed]",
      "text/plain": [
       "<Figure size 432x288 with 1 Axes>"
      ]
     },
     "metadata": {
      "needs_background": "light"
     },
     "output_type": "display_data"
    }
   ],
   "source": [
    "# Visualize multi school clustering\n",
    "\n",
    "colors = ['blue', 'red', 'green', 'yellow', 'orange', 'purple', 'brown']\n",
    "\n",
    "for i in range(0, number_clusters):\n",
    "    plt.scatter(multiClusters[i][varX], multiClusters[i][varY], color=colors[i])\n",
    "    \n",
    "plt.xlabel(varX)\n",
    "plt.ylabel(varY)\n",
    "plt.title(\"Clustering over \" + str(number_schools) + \" schools\")\n",
    "\n",
    "print(\"Mean \" + varX + \": \" + str(onedf[varX].mean()))\n",
    "print(\"Std \" + varX + \": \" + str(onedf[varX].std()))\n",
    "print(\"Mean \" + varY + \": \" + str(onedf[varY].mean()))\n",
    "print(\"Std \" + varY + \": \" + str(onedf[varY].std()))"
   ]
  },
  {
   "cell_type": "code",
   "execution_count": null,
   "metadata": {},
   "outputs": [],
   "source": []
  },
  {
   "cell_type": "code",
   "execution_count": 162,
   "metadata": {},
   "outputs": [],
   "source": [
    "outputdfs = []\n",
    "for x in contractSchoolsIndices:\n",
    "    dftemp = pd.DataFrame(schools[x], columns=['depression', 'study_hours'])\n",
    "    dftemp.to_csv(\"school_\" + str(x) + \".csv\", index=False)"
   ]
  },
  {
   "cell_type": "code",
   "execution_count": null,
   "metadata": {},
   "outputs": [],
   "source": []
  },
  {
   "cell_type": "code",
   "execution_count": null,
   "metadata": {},
   "outputs": [],
   "source": []
  },
  {
   "cell_type": "code",
   "execution_count": null,
   "metadata": {},
   "outputs": [],
   "source": []
  },
  {
   "cell_type": "code",
   "execution_count": null,
   "metadata": {},
   "outputs": [],
   "source": []
  }
 ],
 "metadata": {
  "kernelspec": {
   "display_name": "base3.10",
   "language": "python",
   "name": "base3.10"
  },
  "language_info": {
   "codemirror_mode": {
    "name": "ipython",
    "version": 3
   },
   "file_extension": ".py",
   "mimetype": "text/x-python",
   "name": "python",
   "nbconvert_exporter": "python",
   "pygments_lexer": "ipython3",
   "version": "3.10.4"
  }
 },
 "nbformat": 4,
 "nbformat_minor": 5
}
