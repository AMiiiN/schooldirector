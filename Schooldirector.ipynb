{
 "cells": [
  {
   "cell_type": "markdown",
   "id": "9f156cfb",
   "metadata": {},
   "source": [
    "# Lifestyle and Depression dataset"
   ]
  },
  {
   "cell_type": "markdown",
   "id": "d2544f26",
   "metadata": {},
   "source": [
    "## Scenario"
   ]
  },
  {
   "cell_type": "markdown",
   "id": "34195b7c",
   "metadata": {},
   "source": [
    "A school director wants to find out how the overall status in mental health (-> depression) is at his school, especially in comparison to other schools.\n",
    "\n",
    "There may be many possible reasons related to depression of school children, so in this notebook, variables can be selected to analyze and identify possible correlations inside the director's school as well as how the variables compare to the other schools."
   ]
  },
  {
   "cell_type": "markdown",
   "id": "83eda34a",
   "metadata": {},
   "source": [
    "In this example, we use the \"lifestyle and depression\" dataset (available here: https://github.com/mehedimamun/Lifestyle-and-Depression-Among-University-Students/) and demonstrate the case for the variables \"depression\" and \"study hours\"."
   ]
  },
  {
   "cell_type": "code",
   "execution_count": 4,
   "id": "47a639bd",
   "metadata": {},
   "outputs": [],
   "source": [
    "import numpy as np\n",
    "import pandas as pd\n",
    "import matplotlib.pyplot as plt"
   ]
  },
  {
   "cell_type": "code",
   "execution_count": 5,
   "id": "ecf898f8",
   "metadata": {
    "scrolled": true
   },
   "outputs": [
    {
     "data": {
      "text/html": [
       "<div>\n",
       "<style scoped>\n",
       "    .dataframe tbody tr th:only-of-type {\n",
       "        vertical-align: middle;\n",
       "    }\n",
       "\n",
       "    .dataframe tbody tr th {\n",
       "        vertical-align: top;\n",
       "    }\n",
       "\n",
       "    .dataframe thead th {\n",
       "        text-align: right;\n",
       "    }\n",
       "</style>\n",
       "<table border=\"1\" class=\"dataframe\">\n",
       "  <thead>\n",
       "    <tr style=\"text-align: right;\">\n",
       "      <th></th>\n",
       "      <th>mood</th>\n",
       "      <th>age</th>\n",
       "      <th>gender</th>\n",
       "      <th>subject</th>\n",
       "      <th>semester</th>\n",
       "      <th>sibilings</th>\n",
       "      <th>living</th>\n",
       "      <th>employment</th>\n",
       "      <th>personality</th>\n",
       "      <th>relationship</th>\n",
       "      <th>...</th>\n",
       "      <th>exercise</th>\n",
       "      <th>meditation</th>\n",
       "      <th>video_games</th>\n",
       "      <th>study_hours</th>\n",
       "      <th>phone_hours</th>\n",
       "      <th>medication</th>\n",
       "      <th>movies_per_week</th>\n",
       "      <th>music hours</th>\n",
       "      <th>depression</th>\n",
       "      <th>category</th>\n",
       "    </tr>\n",
       "  </thead>\n",
       "  <tbody>\n",
       "    <tr>\n",
       "      <th>0</th>\n",
       "      <td>Tensed</td>\n",
       "      <td>24</td>\n",
       "      <td>Female</td>\n",
       "      <td>Engineering</td>\n",
       "      <td>9</td>\n",
       "      <td>3</td>\n",
       "      <td>With family</td>\n",
       "      <td>Part time</td>\n",
       "      <td>Extrovert</td>\n",
       "      <td>In a relationship</td>\n",
       "      <td>...</td>\n",
       "      <td>Not at all</td>\n",
       "      <td>Not at all</td>\n",
       "      <td>Not at all</td>\n",
       "      <td>2</td>\n",
       "      <td>6 to 8</td>\n",
       "      <td>No</td>\n",
       "      <td>0</td>\n",
       "      <td>0</td>\n",
       "      <td>18</td>\n",
       "      <td>Moderate</td>\n",
       "    </tr>\n",
       "    <tr>\n",
       "      <th>1</th>\n",
       "      <td>Tensed</td>\n",
       "      <td>23</td>\n",
       "      <td>Male</td>\n",
       "      <td>Engineering</td>\n",
       "      <td>11</td>\n",
       "      <td>3</td>\n",
       "      <td>With family</td>\n",
       "      <td>None</td>\n",
       "      <td>Ambivert</td>\n",
       "      <td>Single</td>\n",
       "      <td>...</td>\n",
       "      <td>Regularly</td>\n",
       "      <td>Sometimes</td>\n",
       "      <td>Sometimes</td>\n",
       "      <td>4</td>\n",
       "      <td>0 to 2</td>\n",
       "      <td>No</td>\n",
       "      <td>5</td>\n",
       "      <td>0</td>\n",
       "      <td>1</td>\n",
       "      <td>None</td>\n",
       "    </tr>\n",
       "    <tr>\n",
       "      <th>2</th>\n",
       "      <td>Sad</td>\n",
       "      <td>19</td>\n",
       "      <td>Female</td>\n",
       "      <td>Pharmacy</td>\n",
       "      <td>3</td>\n",
       "      <td>0</td>\n",
       "      <td>With family</td>\n",
       "      <td>None</td>\n",
       "      <td>Ambivert</td>\n",
       "      <td>Single</td>\n",
       "      <td>...</td>\n",
       "      <td>Sometimes</td>\n",
       "      <td>Not at all</td>\n",
       "      <td>Not at all</td>\n",
       "      <td>3</td>\n",
       "      <td>6 to 8</td>\n",
       "      <td>No</td>\n",
       "      <td>0</td>\n",
       "      <td>0</td>\n",
       "      <td>21</td>\n",
       "      <td>Severe</td>\n",
       "    </tr>\n",
       "    <tr>\n",
       "      <th>3</th>\n",
       "      <td>Lost</td>\n",
       "      <td>23</td>\n",
       "      <td>Female</td>\n",
       "      <td>Engineering</td>\n",
       "      <td>13</td>\n",
       "      <td>1</td>\n",
       "      <td>With family</td>\n",
       "      <td>None</td>\n",
       "      <td>Introvert</td>\n",
       "      <td>In a relationship</td>\n",
       "      <td>...</td>\n",
       "      <td>Not at all</td>\n",
       "      <td>Not at all</td>\n",
       "      <td>Very Often</td>\n",
       "      <td>1</td>\n",
       "      <td>0 to 2</td>\n",
       "      <td>No</td>\n",
       "      <td>5</td>\n",
       "      <td>0</td>\n",
       "      <td>23</td>\n",
       "      <td>Severe</td>\n",
       "    </tr>\n",
       "    <tr>\n",
       "      <th>4</th>\n",
       "      <td>Lost</td>\n",
       "      <td>22</td>\n",
       "      <td>Male</td>\n",
       "      <td>Engineering</td>\n",
       "      <td>11</td>\n",
       "      <td>1</td>\n",
       "      <td>With family</td>\n",
       "      <td>None</td>\n",
       "      <td>Ambivert</td>\n",
       "      <td>Single</td>\n",
       "      <td>...</td>\n",
       "      <td>Sometimes</td>\n",
       "      <td>Not at all</td>\n",
       "      <td>Very Often</td>\n",
       "      <td>2</td>\n",
       "      <td>6 to 8</td>\n",
       "      <td>No</td>\n",
       "      <td>1</td>\n",
       "      <td>4</td>\n",
       "      <td>19</td>\n",
       "      <td>Moderate</td>\n",
       "    </tr>\n",
       "  </tbody>\n",
       "</table>\n",
       "<p>5 rows × 34 columns</p>\n",
       "</div>"
      ],
      "text/plain": [
       "     mood  age  gender      subject  semester  sibilings       living  \\\n",
       "0  Tensed   24  Female  Engineering         9          3  With family   \n",
       "1  Tensed   23    Male  Engineering        11          3  With family   \n",
       "2     Sad   19  Female     Pharmacy         3          0  With family   \n",
       "3    Lost   23  Female  Engineering        13          1  With family   \n",
       "4    Lost   22    Male  Engineering        11          1  With family   \n",
       "\n",
       "  employment personality       relationship  ...    exercise  meditation  \\\n",
       "0  Part time   Extrovert  In a relationship  ...  Not at all  Not at all   \n",
       "1       None    Ambivert             Single  ...   Regularly   Sometimes   \n",
       "2       None    Ambivert             Single  ...   Sometimes  Not at all   \n",
       "3       None   Introvert  In a relationship  ...  Not at all  Not at all   \n",
       "4       None    Ambivert             Single  ...   Sometimes  Not at all   \n",
       "\n",
       "  video_games study_hours phone_hours medication movies_per_week music hours  \\\n",
       "0  Not at all           2      6 to 8         No               0           0   \n",
       "1   Sometimes           4      0 to 2         No               5           0   \n",
       "2  Not at all           3      6 to 8         No               0           0   \n",
       "3  Very Often           1      0 to 2         No               5           0   \n",
       "4  Very Often           2      6 to 8         No               1           4   \n",
       "\n",
       "  depression  category  \n",
       "0         18  Moderate  \n",
       "1          1      None  \n",
       "2         21    Severe  \n",
       "3         23    Severe  \n",
       "4         19  Moderate  \n",
       "\n",
       "[5 rows x 34 columns]"
      ]
     },
     "execution_count": 5,
     "metadata": {},
     "output_type": "execute_result"
    }
   ],
   "source": [
    "df = pd.read_csv(\"depression.csv\")\n",
    "df = df.dropna()\n",
    "df.head()"
   ]
  },
  {
   "cell_type": "markdown",
   "id": "b828a96c",
   "metadata": {},
   "source": [
    "## Umwandlung in Schüler"
   ]
  },
  {
   "cell_type": "code",
   "execution_count": 6,
   "id": "a118092b",
   "metadata": {},
   "outputs": [
    {
     "data": {
      "text/plain": [
       "Microbiology                                 4\n",
       "Microbiology                                 3\n",
       "Biochemistry                                 3\n",
       "Biochemistry and Biotechnology               3\n",
       "Botany                                       2\n",
       "Biochemistry                                 2\n",
       "Biochemistry and Biotechnology               2\n",
       "College                                      2\n",
       "International Relations                      2\n",
       "Mathematics                                  1\n",
       "Environment Management                       1\n",
       "Social work                                  1\n",
       "BPT                                          1\n",
       "Political Science                            1\n",
       "Biotechnology and biochemistry               1\n",
       "Biochemistry and biotechnology               1\n",
       "Environmental science and management         1\n",
       "HSC 20                                       1\n",
       "TESOL                                        1\n",
       "Honours                                      1\n",
       "life sciences                                1\n",
       "Genetic Engineering and Biotechnology        1\n",
       "College/Humanities                           1\n",
       "BBA in finance                               1\n",
       "Marketing                                    1\n",
       "Biochemistry and biotechnology               1\n",
       "Interior Architecture                        1\n",
       "Art and Creative Studies                     1\n",
       "Geography & Environment                      1\n",
       "College                                      1\n",
       "CSE                                          1\n",
       " ?????????????? ????? ???????????            1\n",
       "English linguistics                          1\n",
       "Biochemistry and Molecular Biology           1\n",
       "Environmental Science                        1\n",
       "English Linguistics                          1\n",
       "Social Sciences and Humanities               1\n",
       "BDS                                          1\n",
       "Archaeology                                  1\n",
       "ESM                                          1\n",
       "BBA                                          1\n",
       "Environmental science                        1\n",
       "Bba                                          1\n",
       "college                                      1\n",
       "HSC                                          1\n",
       "Science                                      1\n",
       "Not admitted yet                             1\n",
       "Child development and social relationship    1\n",
       "Criminology                                  1\n",
       "Physics                                      1\n",
       "Environmental Science                        1\n",
       "IT                                           1\n",
       "Physics                                      1\n",
       "Mathematics                                  1\n",
       "Linguistics                                  1\n",
       "IR                                           1\n",
       "Environmental Management                     1\n",
       "Environmental management                     1\n",
       "Botany                                       1\n",
       "Hsc                                          1\n",
       "Name: subject, dtype: int64"
      ]
     },
     "execution_count": 6,
     "metadata": {},
     "output_type": "execute_result"
    }
   ],
   "source": [
    "df['subject'].value_counts().tail(60)"
   ]
  },
  {
   "cell_type": "code",
   "execution_count": 43,
   "id": "7ef8375e",
   "metadata": {},
   "outputs": [
    {
     "name": "stdout",
     "output_type": "stream",
     "text": [
      "700 from initially 752 students remaining.\n"
     ]
    }
   ],
   "source": [
    "# Unify subjects\n",
    "subjects = df['subject'].to_numpy()\n",
    "\n",
    "for i in range(0, len(subjects)):\n",
    "    current = str.lower(subjects[i])\n",
    "    if \"bio\" in current or \"arch\" in current or \"botan\" in current or \"engin\" in current or \"math\" in current or \"pharm\" in current or \"science\" in current or \"it\" in current or \"phys\" in current:\n",
    "        subjects[i] = \"Naturwissenschaft\"\n",
    "    if \"econ\" in current or \"financ\" in current or \"business\" in current or \"management\" in current or \"market\" in current:\n",
    "        subjects[i] = \"Wirtschaft\"\n",
    "    if \"polit\" in current or \"social\" in current or \"english\" in current or \"linguist\" in current or \"geo\" in current or \"law\" in current or \"international\" in current or \"crimin\" in current:\n",
    "        subjects[i] = \"Geisteswissenschaft\"\n",
    "    if \"art\" in current:\n",
    "        subjects[i] = \"Kunst\"\n",
    "        \n",
    "subjectsnew = np.array([])\n",
    "for i in range(0, len(subjects)):\n",
    "    if subjects[i] in ['Naturwissenschaft', 'Wirtschaft', 'Geisteswissenschaft', 'Kunst']:\n",
    "        subjectsnew = np.append(subjectsnew, subjects[i])\n",
    "\n",
    "print(str(len(subjectsnew)) + \" from initially \" + str(len(subjects)) + \" students remaining.\")"
   ]
  },
  {
   "cell_type": "code",
   "execution_count": null,
   "id": "a701da80",
   "metadata": {},
   "outputs": [],
   "source": []
  },
  {
   "cell_type": "code",
   "execution_count": null,
   "id": "28222a87",
   "metadata": {},
   "outputs": [],
   "source": []
  },
  {
   "cell_type": "code",
   "execution_count": null,
   "id": "07c61a21",
   "metadata": {},
   "outputs": [],
   "source": []
  },
  {
   "cell_type": "code",
   "execution_count": 44,
   "id": "1faa7faa",
   "metadata": {},
   "outputs": [
    {
     "data": {
      "text/html": [
       "<div>\n",
       "<style scoped>\n",
       "    .dataframe tbody tr th:only-of-type {\n",
       "        vertical-align: middle;\n",
       "    }\n",
       "\n",
       "    .dataframe tbody tr th {\n",
       "        vertical-align: top;\n",
       "    }\n",
       "\n",
       "    .dataframe thead th {\n",
       "        text-align: right;\n",
       "    }\n",
       "</style>\n",
       "<table border=\"1\" class=\"dataframe\">\n",
       "  <thead>\n",
       "    <tr style=\"text-align: right;\">\n",
       "      <th></th>\n",
       "      <th>depression</th>\n",
       "      <th>study_hours</th>\n",
       "    </tr>\n",
       "  </thead>\n",
       "  <tbody>\n",
       "    <tr>\n",
       "      <th>0</th>\n",
       "      <td>18</td>\n",
       "      <td>2</td>\n",
       "    </tr>\n",
       "    <tr>\n",
       "      <th>1</th>\n",
       "      <td>1</td>\n",
       "      <td>4</td>\n",
       "    </tr>\n",
       "    <tr>\n",
       "      <th>2</th>\n",
       "      <td>21</td>\n",
       "      <td>3</td>\n",
       "    </tr>\n",
       "    <tr>\n",
       "      <th>3</th>\n",
       "      <td>23</td>\n",
       "      <td>1</td>\n",
       "    </tr>\n",
       "    <tr>\n",
       "      <th>4</th>\n",
       "      <td>19</td>\n",
       "      <td>2</td>\n",
       "    </tr>\n",
       "  </tbody>\n",
       "</table>\n",
       "</div>"
      ],
      "text/plain": [
       "   depression  study_hours\n",
       "0          18            2\n",
       "1           1            4\n",
       "2          21            3\n",
       "3          23            1\n",
       "4          19            2"
      ]
     },
     "execution_count": 44,
     "metadata": {},
     "output_type": "execute_result"
    }
   ],
   "source": [
    "# Select interesting variables\n",
    "\n",
    "varX = 'depression'\n",
    "varY = 'study_hours'\n",
    "\n",
    "dfinterest = df[[varX, varY]].copy()\n",
    "\n",
    "# Simple transformation may be done here\n",
    "#\n",
    "\n",
    "dfinterest.head()"
   ]
  },
  {
   "cell_type": "code",
   "execution_count": 45,
   "id": "7994600b",
   "metadata": {},
   "outputs": [
    {
     "data": {
      "text/plain": [
       "Text(0, 0.5, 'study_hours')"
      ]
     },
     "execution_count": 45,
     "metadata": {},
     "output_type": "execute_result"
    },
    {
     "data": {
      "image/png": "[encoded data removed]",
      "text/plain": [
       "<Figure size 432x288 with 1 Axes>"
      ]
     },
     "metadata": {
      "needs_background": "light"
     },
     "output_type": "display_data"
    }
   ],
   "source": [
    "# Plot raw data from the selected variables\n",
    "\n",
    "plt.scatter(df[varX], df[varY])\n",
    "plt.xlabel(varX)\n",
    "plt.ylabel(varY)"
   ]
  },
  {
   "cell_type": "code",
   "execution_count": 54,
   "id": "08a282eb",
   "metadata": {},
   "outputs": [
    {
     "name": "stdout",
     "output_type": "stream",
     "text": [
      "Mean depression: 11.196808510638299\n",
      "Std depression: 6.309048343390235\n",
      "Mean depression: 2.7952127659574466\n",
      "Std depression: 2.199885835906468\n"
     ]
    }
   ],
   "source": [
    "# Get mean and standard deviation for the selected variables\n",
    "\n",
    "meanX = df[varX].mean()\n",
    "stdX = df[varX].std()\n",
    "meanY = df[varY].mean()\n",
    "stdY = df[varY].std()\n",
    "\n",
    "print(\"Mean \" + varX + \": \" + str(meanX))\n",
    "print(\"Std \" + varX + \": \" + str(stdX))\n",
    "print(\"Mean \" + varX + \": \" + str(meanY))\n",
    "print(\"Std \" + varX + \": \" + str(stdY))"
   ]
  },
  {
   "cell_type": "code",
   "execution_count": 131,
   "id": "91c3588d",
   "metadata": {
    "scrolled": true
   },
   "outputs": [
    {
     "name": "stdout",
     "output_type": "stream",
     "text": [
      "50752\n",
      "50752\n"
     ]
    }
   ],
   "source": [
    "# Generate more samples with simulation\n",
    "import statistics as stats\n",
    "\n",
    "number_samples = 50000\n",
    "\n",
    "objX = stats.NormalDist(mu=meanX, sigma=stdX) # variable X\n",
    "objY = stats.NormalDist(mu=meanY, sigma=stdY) # variable Y\n",
    "gensamplesX = objX.samples(number_samples, seed=1)\n",
    "gensamplesY = objY.samples(number_samples, seed=1)\n",
    "\n",
    "# If only integers are valid, round the values\n",
    "gensamplesX = np.around(gensamplesX).astype(int)\n",
    "gensamplesY = np.around(gensamplesY).astype(int)\n",
    "\n",
    "# Concatenate with real data\n",
    "samplesX = np.concatenate((df[varX].to_numpy(), gensamplesX))\n",
    "samplesY = np.concatenate((df[varY].to_numpy(), gensamplesY))\n",
    "\n",
    "# Randomize each value a little bit\n",
    "np.random.seed(1)\n",
    "randX = np.random.uniform(0.75,1.25,len(samplesX))\n",
    "randY = np.random.uniform(0.75,1.25,len(samplesY))\n",
    "randizedX = np.array([])\n",
    "randizedY = np.array([])\n",
    "\n",
    "for i in range(0, len(samplesX)):\n",
    "    randizedX = np.append(randizedX, samplesX[i]*randX[i])\n",
    "    randizedY = np.append(randizedY, samplesY[i]*randY[i])\n",
    "    \n",
    "samplesX = randizedX\n",
    "samplesY = randizedY\n",
    "    \n",
    "# Shuffle\n",
    "np.random.shuffle(samplesX)\n",
    "np.random.shuffle(samplesY)\n",
    "    \n",
    "print(len(samplesX))\n",
    "print(len(samplesY))"
   ]
  },
  {
   "cell_type": "code",
   "execution_count": 132,
   "id": "dbb33043",
   "metadata": {},
   "outputs": [
    {
     "name": "stdout",
     "output_type": "stream",
     "text": [
      "Remaining samples: 45962, 45962\n"
     ]
    }
   ],
   "source": [
    "# Define and remove impossible values\n",
    "\n",
    "maxX = 63\n",
    "minX = 0\n",
    "maxY = None\n",
    "minY = 0\n",
    "\n",
    "removal_counter = 0\n",
    "newsamplesX = np.array([])\n",
    "newsamplesY = np.array([])\n",
    "\n",
    "# Find impossible values in variable X samples\n",
    "for i in range(0, len(samplesX)):\n",
    "    if samplesX[i] >= minX and samplesX[i] <= maxX and samplesY[i] >= minY:\n",
    "        #samplesX = np.delete(samplesX, i)\n",
    "        #samplesY = np.delete(samplesY, i) # also remove some entry from the other set of samples\n",
    "        newsamplesX = np.append(newsamplesX, samplesX[i])\n",
    "        newsamplesY = np.append(newsamplesY, samplesY[i])\n",
    "    else:\n",
    "        removal_counter += 1\n",
    "    \n",
    "print(\"Remaining samples: \" + str(len(newsamplesX)) + \", \" + str(len(newsamplesY)))"
   ]
  },
  {
   "cell_type": "markdown",
   "id": "8b8dad44",
   "metadata": {},
   "source": [
    "### Divide samples into schools"
   ]
  },
  {
   "cell_type": "code",
   "execution_count": 133,
   "id": "2fa75e43",
   "metadata": {},
   "outputs": [],
   "source": [
    "# Define number of schools to be simulated\n",
    "\n",
    "number_schools = 200\n",
    "\n",
    "zipped_samples = np.column_stack((newsamplesX, newsamplesY))\n",
    "schools = np.array_split(zipped_samples, number_schools)\n",
    "schoolsX = np.array_split(newsamplesX, number_schools)\n",
    "schoolsY = np.array_split(newsamplesY, number_schools)"
   ]
  },
  {
   "cell_type": "code",
   "execution_count": 134,
   "id": "f06a2e30",
   "metadata": {},
   "outputs": [
    {
     "data": {
      "text/plain": [
       "230"
      ]
     },
     "execution_count": 134,
     "metadata": {},
     "output_type": "execute_result"
    }
   ],
   "source": [
    "len(schoolsX[0])"
   ]
  },
  {
   "cell_type": "markdown",
   "id": "1b3869a5",
   "metadata": {},
   "source": [
    "### Visualize data on one specific school"
   ]
  },
  {
   "cell_type": "code",
   "execution_count": 135,
   "id": "9e3025d2",
   "metadata": {},
   "outputs": [
    {
     "data": {
      "text/plain": [
       "Text(0.5, 1.0, 'Raw visualization on school 1')"
      ]
     },
     "execution_count": 135,
     "metadata": {},
     "output_type": "execute_result"
    },
    {
     "data": {
      "image/png": "[encoded data removed]",
      "text/plain": [
       "<Figure size 432x288 with 1 Axes>"
      ]
     },
     "metadata": {
      "needs_background": "light"
     },
     "output_type": "display_data"
    }
   ],
   "source": [
    "# Select some school\n",
    "oneSchoolIndex = 1\n",
    "\n",
    "# Plot that school's data\n",
    "plt.scatter(schoolsX[oneSchoolIndex], schoolsY[oneSchoolIndex])\n",
    "plt.xlabel(varX)\n",
    "plt.ylabel(varY)\n",
    "plt.title(\"Raw visualization on school \" + str(oneSchoolIndex))"
   ]
  },
  {
   "cell_type": "markdown",
   "id": "fd2b515f",
   "metadata": {},
   "source": [
    "### Clustering on one specific school (student comparison)"
   ]
  },
  {
   "cell_type": "code",
   "execution_count": 136,
   "id": "ae4b4d6b",
   "metadata": {},
   "outputs": [],
   "source": [
    "# Normalize data of that school\n",
    "from sklearn.preprocessing import StandardScaler\n",
    "oneScaler = StandardScaler()\n",
    "oneX = schools[oneSchoolIndex]\n",
    "oneXscaled = oneScaler.fit_transform(oneX)"
   ]
  },
  {
   "cell_type": "code",
   "execution_count": 137,
   "id": "84843847",
   "metadata": {},
   "outputs": [],
   "source": [
    "from sklearn.cluster import KMeans\n",
    "number_clusters = 4\n",
    "\n",
    "oneKmeans = KMeans(n_clusters=number_clusters, random_state=0).fit(oneXscaled)"
   ]
  },
  {
   "cell_type": "code",
   "execution_count": 138,
   "id": "96cd073d",
   "metadata": {},
   "outputs": [
    {
     "data": {
      "text/html": [
       "<div>\n",
       "<style scoped>\n",
       "    .dataframe tbody tr th:only-of-type {\n",
       "        vertical-align: middle;\n",
       "    }\n",
       "\n",
       "    .dataframe tbody tr th {\n",
       "        vertical-align: top;\n",
       "    }\n",
       "\n",
       "    .dataframe thead th {\n",
       "        text-align: right;\n",
       "    }\n",
       "</style>\n",
       "<table border=\"1\" class=\"dataframe\">\n",
       "  <thead>\n",
       "    <tr style=\"text-align: right;\">\n",
       "      <th></th>\n",
       "      <th>depression</th>\n",
       "      <th>study_hours</th>\n",
       "      <th>label</th>\n",
       "    </tr>\n",
       "  </thead>\n",
       "  <tbody>\n",
       "    <tr>\n",
       "      <th>0</th>\n",
       "      <td>8.938663</td>\n",
       "      <td>2.379171</td>\n",
       "      <td>1</td>\n",
       "    </tr>\n",
       "    <tr>\n",
       "      <th>1</th>\n",
       "      <td>13.198199</td>\n",
       "      <td>3.902817</td>\n",
       "      <td>2</td>\n",
       "    </tr>\n",
       "    <tr>\n",
       "      <th>2</th>\n",
       "      <td>4.204563</td>\n",
       "      <td>6.463083</td>\n",
       "      <td>2</td>\n",
       "    </tr>\n",
       "    <tr>\n",
       "      <th>3</th>\n",
       "      <td>10.299391</td>\n",
       "      <td>5.377526</td>\n",
       "      <td>2</td>\n",
       "    </tr>\n",
       "    <tr>\n",
       "      <th>4</th>\n",
       "      <td>24.569742</td>\n",
       "      <td>1.640657</td>\n",
       "      <td>0</td>\n",
       "    </tr>\n",
       "  </tbody>\n",
       "</table>\n",
       "</div>"
      ],
      "text/plain": [
       "   depression  study_hours  label\n",
       "0    8.938663     2.379171      1\n",
       "1   13.198199     3.902817      2\n",
       "2    4.204563     6.463083      2\n",
       "3   10.299391     5.377526      2\n",
       "4   24.569742     1.640657      0"
      ]
     },
     "execution_count": 138,
     "metadata": {},
     "output_type": "execute_result"
    }
   ],
   "source": [
    "# Create dataframe for easier handling\n",
    "\n",
    "onedf = pd.DataFrame(oneX, columns=[varX, varY])\n",
    "onedf['label'] = oneKmeans.labels_\n",
    "onedf.head()"
   ]
  },
  {
   "cell_type": "code",
   "execution_count": 139,
   "id": "02caa582",
   "metadata": {},
   "outputs": [],
   "source": [
    "# Group by cluster into separate dataframes\n",
    "\n",
    "oneClusters = list()\n",
    "for i in range(0, number_clusters):\n",
    "    oneClusters.append(onedf[onedf['label'] == i])"
   ]
  },
  {
   "cell_type": "code",
   "execution_count": 140,
   "id": "a5e064e6",
   "metadata": {},
   "outputs": [
    {
     "name": "stdout",
     "output_type": "stream",
     "text": [
      "Mean depression: 11.371530532292718\n",
      "Std depression: 6.231088779794578\n",
      "Mean study_hours: 3.211954525456062\n",
      "Std study_hours: 2.001866999225789\n"
     ]
    },
    {
     "data": {
      "image/png": "[encoded data removed]",
      "text/plain": [
       "<Figure size 432x288 with 1 Axes>"
      ]
     },
     "metadata": {
      "needs_background": "light"
     },
     "output_type": "display_data"
    }
   ],
   "source": [
    "# Visualize one school clustering\n",
    "colors = ['blue', 'red', 'green', 'yellow', 'orange', 'purple', 'brown']\n",
    "\n",
    "for i in range(0, number_clusters):\n",
    "    plt.scatter(oneClusters[i][varX], oneClusters[i][varY], color=colors[i])\n",
    "    \n",
    "plt.xlabel(varX)\n",
    "plt.ylabel(varY)\n",
    "plt.title(\"Clustering on school \" + str(oneSchoolIndex))\n",
    "print(\"Mean \" + varX + \": \" + str(onedf[varX].mean()))\n",
    "print(\"Std \" + varX + \": \" + str(onedf[varX].std()))\n",
    "print(\"Mean \" + varY + \": \" + str(onedf[varY].mean()))\n",
    "print(\"Std \" + varY + \": \" + str(onedf[varY].std()))"
   ]
  },
  {
   "cell_type": "markdown",
   "id": "8fb1b551",
   "metadata": {},
   "source": [
    "# Clustering over all schools (school comparison)"
   ]
  },
  {
   "cell_type": "markdown",
   "id": "24dce9a8",
   "metadata": {},
   "source": [
    "## By all students"
   ]
  },
  {
   "cell_type": "code",
   "execution_count": 141,
   "id": "e66565ae",
   "metadata": {},
   "outputs": [
    {
     "name": "stdout",
     "output_type": "stream",
     "text": [
      "0\n",
      "1\n",
      "2\n"
     ]
    }
   ],
   "source": [
    "# Define the schools that are part of the contract\n",
    "contractSchoolsIndices = [0,1,2]\n",
    "\n",
    "# Integrate their respective data\n",
    "contractX = np.array([])\n",
    "contractY = np.array([])\n",
    "\n",
    "for i in range(0, np.max(contractSchoolsIndices)+1):\n",
    "    if i in contractSchoolsIndices:\n",
    "        print(i)\n",
    "        for j in range(0, len(schoolsX[i])):\n",
    "            contractX = np.append(contractX, schoolsX[i][j])\n",
    "            contractY = np.append(contractY, schoolsY[i][j])"
   ]
  },
  {
   "cell_type": "code",
   "execution_count": null,
   "id": "39b59e40",
   "metadata": {},
   "outputs": [],
   "source": []
  },
  {
   "cell_type": "code",
   "execution_count": 142,
   "id": "a5cdd7a6",
   "metadata": {},
   "outputs": [],
   "source": [
    "# Normalize data\n",
    "contractScaler = StandardScaler()\n",
    "brokerX = np.column_stack((contractX, contractY))\n",
    "brokerXscaled = contractScaler.fit_transform(brokerX)"
   ]
  },
  {
   "cell_type": "code",
   "execution_count": 143,
   "id": "aaea525a",
   "metadata": {},
   "outputs": [],
   "source": [
    "# Perform clustering\n",
    "number_clusters = 4\n",
    "\n",
    "brokerKmeans = KMeans(n_clusters=number_clusters, random_state=0).fit(brokerXscaled)"
   ]
  },
  {
   "cell_type": "code",
   "execution_count": 144,
   "id": "0dfd2c11",
   "metadata": {},
   "outputs": [
    {
     "data": {
      "text/html": [
       "<div>\n",
       "<style scoped>\n",
       "    .dataframe tbody tr th:only-of-type {\n",
       "        vertical-align: middle;\n",
       "    }\n",
       "\n",
       "    .dataframe tbody tr th {\n",
       "        vertical-align: top;\n",
       "    }\n",
       "\n",
       "    .dataframe thead th {\n",
       "        text-align: right;\n",
       "    }\n",
       "</style>\n",
       "<table border=\"1\" class=\"dataframe\">\n",
       "  <thead>\n",
       "    <tr style=\"text-align: right;\">\n",
       "      <th></th>\n",
       "      <th>depression</th>\n",
       "      <th>study_hours</th>\n",
       "      <th>label</th>\n",
       "    </tr>\n",
       "  </thead>\n",
       "  <tbody>\n",
       "    <tr>\n",
       "      <th>0</th>\n",
       "      <td>15.611100</td>\n",
       "      <td>1.155303</td>\n",
       "      <td>1</td>\n",
       "    </tr>\n",
       "    <tr>\n",
       "      <th>1</th>\n",
       "      <td>11.159795</td>\n",
       "      <td>5.704238</td>\n",
       "      <td>2</td>\n",
       "    </tr>\n",
       "    <tr>\n",
       "      <th>2</th>\n",
       "      <td>14.982715</td>\n",
       "      <td>3.020877</td>\n",
       "      <td>1</td>\n",
       "    </tr>\n",
       "    <tr>\n",
       "      <th>3</th>\n",
       "      <td>11.070010</td>\n",
       "      <td>5.936404</td>\n",
       "      <td>2</td>\n",
       "    </tr>\n",
       "    <tr>\n",
       "      <th>4</th>\n",
       "      <td>5.401305</td>\n",
       "      <td>1.011676</td>\n",
       "      <td>3</td>\n",
       "    </tr>\n",
       "  </tbody>\n",
       "</table>\n",
       "</div>"
      ],
      "text/plain": [
       "   depression  study_hours  label\n",
       "0   15.611100     1.155303      1\n",
       "1   11.159795     5.704238      2\n",
       "2   14.982715     3.020877      1\n",
       "3   11.070010     5.936404      2\n",
       "4    5.401305     1.011676      3"
      ]
     },
     "execution_count": 144,
     "metadata": {},
     "output_type": "execute_result"
    }
   ],
   "source": [
    "# Create dataframe for easier handling\n",
    "\n",
    "brokerdf = pd.DataFrame(brokerX, columns=[varX, varY])\n",
    "brokerdf['label'] = brokerKmeans.labels_\n",
    "brokerdf.head()"
   ]
  },
  {
   "cell_type": "code",
   "execution_count": 145,
   "id": "8dcd1342",
   "metadata": {},
   "outputs": [],
   "source": [
    "# Group by cluster into separate dataframes\n",
    "\n",
    "brokerClusters = list()\n",
    "for i in range(0, number_clusters):\n",
    "    brokerClusters.append(brokerdf[brokerdf['label'] == i])"
   ]
  },
  {
   "cell_type": "code",
   "execution_count": 146,
   "id": "242a52fb",
   "metadata": {},
   "outputs": [
    {
     "name": "stdout",
     "output_type": "stream",
     "text": [
      "Mean depression: 11.615037878395691\n",
      "Std depression: 6.413545968430287\n",
      "Mean study_hours: 3.1534714686404395\n",
      "Std study_hours: 1.9615153752204304\n"
     ]
    },
    {
     "data": {
      "image/png": "[encoded data removed]",
      "text/plain": [
       "<Figure size 432x288 with 1 Axes>"
      ]
     },
     "metadata": {
      "needs_background": "light"
     },
     "output_type": "display_data"
    }
   ],
   "source": [
    "# Visualize clustering across the contract schools\n",
    "colors = ['blue', 'red', 'green', 'yellow', 'orange', 'purple', 'brown']\n",
    "\n",
    "for i in range(0, number_clusters):\n",
    "    plt.scatter(brokerClusters[i][varX], brokerClusters[i][varY], color=colors[i])\n",
    "    \n",
    "plt.xlabel(varX)\n",
    "plt.ylabel(varY)\n",
    "plt.title(\"Clustering on schools \" + str(contractSchoolsIndices))\n",
    "print(\"Mean \" + varX + \": \" + str(brokerdf[varX].mean()))\n",
    "print(\"Std \" + varX + \": \" + str(brokerdf[varX].std()))\n",
    "print(\"Mean \" + varY + \": \" + str(brokerdf[varY].mean()))\n",
    "print(\"Std \" + varY + \": \" + str(brokerdf[varY].std()))"
   ]
  },
  {
   "cell_type": "code",
   "execution_count": null,
   "id": "08987f05",
   "metadata": {},
   "outputs": [],
   "source": []
  },
  {
   "cell_type": "markdown",
   "id": "e2927029",
   "metadata": {},
   "source": [
    "## By mean values"
   ]
  },
  {
   "cell_type": "code",
   "execution_count": 147,
   "id": "0ab96423",
   "metadata": {},
   "outputs": [
    {
     "data": {
      "text/plain": [
       "array([[11.81315771,  3.05938215],\n",
       "       [11.37153053,  3.21195453],\n",
       "       [11.66042539,  3.18907773],\n",
       "       [11.39979662,  3.02141953],\n",
       "       [11.45150421,  2.93326381],\n",
       "       [12.24380585,  3.30102945],\n",
       "       [12.01768771,  3.2133738 ],\n",
       "       [11.80047918,  2.88066763],\n",
       "       [12.31414703,  3.12630345],\n",
       "       [11.71052133,  3.1081137 ]])"
      ]
     },
     "execution_count": 147,
     "metadata": {},
     "output_type": "execute_result"
    }
   ],
   "source": [
    "# Determine mean X and Y values of each school\n",
    "\n",
    "multiXmeans = np.array([])\n",
    "multiYmeans = np.array([])\n",
    "for i in range(0, number_schools):\n",
    "    multiXmeans = np.append(multiXmeans, np.mean(schoolsX[i]))\n",
    "    multiYmeans = np.append(multiYmeans, np.mean(schoolsY[i]))\n",
    "    \n",
    "multiX = np.column_stack((multiXmeans, multiYmeans))\n",
    "multiX[:10]"
   ]
  },
  {
   "cell_type": "code",
   "execution_count": 148,
   "id": "9aee2aeb",
   "metadata": {},
   "outputs": [
    {
     "data": {
      "text/plain": [
       "array([[ 0.29163769, -0.39359406],\n",
       "       [-0.74726859,  0.83262133],\n",
       "       [-0.06765759,  0.64876183],\n",
       "       [-0.68077401, -0.69869751],\n",
       "       [-0.55913443, -1.40719995],\n",
       "       [ 1.30471632,  1.54851138],\n",
       "       [ 0.77278448,  0.84402797],\n",
       "       [ 0.26181207, -1.82991238],\n",
       "       [ 1.47019051,  0.14424854],\n",
       "       [ 0.05019065, -0.00194144]])"
      ]
     },
     "execution_count": 148,
     "metadata": {},
     "output_type": "execute_result"
    }
   ],
   "source": [
    "# Normalize data\n",
    "\n",
    "multiScaler = StandardScaler()\n",
    "multiXscaled = oneScaler.fit_transform(multiX)\n",
    "multiXscaled[:10]"
   ]
  },
  {
   "cell_type": "code",
   "execution_count": 149,
   "id": "4f03dfb8",
   "metadata": {},
   "outputs": [],
   "source": [
    "# Perform clustering\n",
    "\n",
    "multiKmeans = KMeans(n_clusters=number_clusters, random_state=0).fit(multiXscaled)"
   ]
  },
  {
   "cell_type": "code",
   "execution_count": 150,
   "id": "5632c387",
   "metadata": {},
   "outputs": [
    {
     "data": {
      "text/html": [
       "<div>\n",
       "<style scoped>\n",
       "    .dataframe tbody tr th:only-of-type {\n",
       "        vertical-align: middle;\n",
       "    }\n",
       "\n",
       "    .dataframe tbody tr th {\n",
       "        vertical-align: top;\n",
       "    }\n",
       "\n",
       "    .dataframe thead th {\n",
       "        text-align: right;\n",
       "    }\n",
       "</style>\n",
       "<table border=\"1\" class=\"dataframe\">\n",
       "  <thead>\n",
       "    <tr style=\"text-align: right;\">\n",
       "      <th></th>\n",
       "      <th>depression</th>\n",
       "      <th>study_hours</th>\n",
       "      <th>label</th>\n",
       "    </tr>\n",
       "  </thead>\n",
       "  <tbody>\n",
       "    <tr>\n",
       "      <th>0</th>\n",
       "      <td>11.813158</td>\n",
       "      <td>3.059382</td>\n",
       "      <td>2</td>\n",
       "    </tr>\n",
       "    <tr>\n",
       "      <th>1</th>\n",
       "      <td>11.371531</td>\n",
       "      <td>3.211955</td>\n",
       "      <td>3</td>\n",
       "    </tr>\n",
       "    <tr>\n",
       "      <th>2</th>\n",
       "      <td>11.660425</td>\n",
       "      <td>3.189078</td>\n",
       "      <td>3</td>\n",
       "    </tr>\n",
       "    <tr>\n",
       "      <th>3</th>\n",
       "      <td>11.399797</td>\n",
       "      <td>3.021420</td>\n",
       "      <td>2</td>\n",
       "    </tr>\n",
       "    <tr>\n",
       "      <th>4</th>\n",
       "      <td>11.451504</td>\n",
       "      <td>2.933264</td>\n",
       "      <td>2</td>\n",
       "    </tr>\n",
       "  </tbody>\n",
       "</table>\n",
       "</div>"
      ],
      "text/plain": [
       "   depression  study_hours  label\n",
       "0   11.813158     3.059382      2\n",
       "1   11.371531     3.211955      3\n",
       "2   11.660425     3.189078      3\n",
       "3   11.399797     3.021420      2\n",
       "4   11.451504     2.933264      2"
      ]
     },
     "execution_count": 150,
     "metadata": {},
     "output_type": "execute_result"
    }
   ],
   "source": [
    "# Create dataframe for easier handling\n",
    "\n",
    "multidf = pd.DataFrame(multiX, columns=[varX, varY])\n",
    "multidf['label'] = multiKmeans.labels_\n",
    "multidf.head()"
   ]
  },
  {
   "cell_type": "code",
   "execution_count": 151,
   "id": "de594e46",
   "metadata": {},
   "outputs": [],
   "source": [
    "# Group by cluster into separate dataframes\n",
    "\n",
    "multiClusters = list()\n",
    "for i in range(0, number_clusters):\n",
    "    multiClusters.append(multidf[multidf['label'] == i])"
   ]
  },
  {
   "cell_type": "code",
   "execution_count": 152,
   "id": "3b3566ae",
   "metadata": {},
   "outputs": [
    {
     "name": "stdout",
     "output_type": "stream",
     "text": [
      "Mean depression: 11.371530532292718\n",
      "Std depression: 6.231088779794578\n",
      "Mean study_hours: 3.211954525456062\n",
      "Std study_hours: 2.001866999225789\n"
     ]
    },
    {
     "data": {
      "image/png": "[encoded data removed]",
      "text/plain": [
       "<Figure size 432x288 with 1 Axes>"
      ]
     },
     "metadata": {
      "needs_background": "light"
     },
     "output_type": "display_data"
    }
   ],
   "source": [
    "# Visualize multi school clustering\n",
    "\n",
    "colors = ['blue', 'red', 'green', 'yellow', 'orange', 'purple', 'brown']\n",
    "\n",
    "for i in range(0, number_clusters):\n",
    "    plt.scatter(multiClusters[i][varX], multiClusters[i][varY], color=colors[i])\n",
    "    \n",
    "plt.xlabel(varX)\n",
    "plt.ylabel(varY)\n",
    "plt.title(\"Clustering over \" + str(number_schools) + \" schools\")\n",
    "\n",
    "print(\"Mean \" + varX + \": \" + str(onedf[varX].mean()))\n",
    "print(\"Std \" + varX + \": \" + str(onedf[varX].std()))\n",
    "print(\"Mean \" + varY + \": \" + str(onedf[varY].mean()))\n",
    "print(\"Std \" + varY + \": \" + str(onedf[varY].std()))"
   ]
  },
  {
   "cell_type": "code",
   "execution_count": null,
   "id": "513b9eb6",
   "metadata": {},
   "outputs": [],
   "source": []
  },
  {
   "cell_type": "code",
   "execution_count": null,
   "id": "63871579",
   "metadata": {},
   "outputs": [],
   "source": [
    " "
   ]
  }
 ],
 "metadata": {
  "kernelspec": {
   "display_name": "Python 3 (ipykernel)",
   "language": "python",
   "name": "python3"
  },
  "language_info": {
   "codemirror_mode": {
    "name": "ipython",
    "version": 3
   },
   "file_extension": ".py",
   "mimetype": "text/x-python",
   "name": "python",
   "nbconvert_exporter": "python",
   "pygments_lexer": "ipython3",
   "version": "3.10.4"
  }
 },
 "nbformat": 4,
 "nbformat_minor": 5
}
